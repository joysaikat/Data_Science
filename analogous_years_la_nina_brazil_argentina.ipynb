{
  "nbformat": 4,
  "nbformat_minor": 0,
  "metadata": {
    "colab": {
      "name": "analogous_years_la_nina_brazil_argentina.ipynb",
      "provenance": [],
      "authorship_tag": "ABX9TyNSPGOT0FICvCqhYIkJoFfu",
      "include_colab_link": true
    },
    "kernelspec": {
      "name": "python3",
      "display_name": "Python 3"
    }
  },
  "cells": [
    {
      "cell_type": "markdown",
      "metadata": {
        "id": "view-in-github",
        "colab_type": "text"
      },
      "source": [
        "<a href=\"https://colab.research.google.com/github/joysaikat/Data_Science/blob/master/analogous_years_la_nina_brazil_argentina.ipynb\" target=\"_parent\"><img src=\"https://colab.research.google.com/assets/colab-badge.svg\" alt=\"Open In Colab\"/></a>"
      ]
    },
    {
      "cell_type": "markdown",
      "metadata": {
        "id": "391y4dytcuOc"
      },
      "source": [
        "# Analgous Years Example\n",
        "The Analogous Years application enables users to compare events from a set period of time, to those of the same date range in other years. The application will compute ranks of similarity between the specified period, and the same period from previous or future years."
      ]
    },
    {
      "cell_type": "markdown",
      "metadata": {
        "id": "n58oqv5FdCNK"
      },
      "source": [
        "# -1. Optional Cell To Add Gro-access-token (Read before running)\n",
        "You should run the following cell (after appropriately modifying) ONLY if you have saved the `GROAPI_TOKEN` in their google drive. You will have the option to manually add the access token, later."
      ]
    },
    {
      "cell_type": "code",
      "metadata": {
        "id": "v_66GJgWWY72",
        "outputId": "373cd8d7-b7cc-4511-ef74-5b0ca1264859",
        "colab": {
          "base_uri": "https://localhost:8080/"
        }
      },
      "source": [
        "from google.colab import drive\n",
        "drive.mount('/content/drive')\n",
        "!pip install ConfigParser #Package for parsing configuration file holding GROAPI_TOKEN\n",
        "import configparser\n",
        "config = configparser.RawConfigParser()\n",
        "config.read('/content/drive/My Drive/Colab Notebooks/Properties/gro.properties')#"
      ],
      "execution_count": 1,
      "outputs": [
        {
          "output_type": "stream",
          "text": [
            "Drive already mounted at /content/drive; to attempt to forcibly remount, call drive.mount(\"/content/drive\", force_remount=True).\n",
            "Requirement already satisfied: ConfigParser in /usr/local/lib/python3.6/dist-packages (5.0.1)\n"
          ],
          "name": "stdout"
        },
        {
          "output_type": "execute_result",
          "data": {
            "text/plain": [
              "['/content/drive/My Drive/Colab Notebooks/Properties/gro.properties']"
            ]
          },
          "metadata": {
            "tags": []
          },
          "execution_count": 1
        }
      ]
    },
    {
      "cell_type": "markdown",
      "metadata": {
        "id": "8VjY5x7Adkip"
      },
      "source": [
        "## 0. Install Gro API client and other Analogous Years packages.\n",
        "To get started with `Analogous Years`, you have to install `Gro API Client` and some of the necessary libraries (which do not come installed in Colab) for running the `analogous_years` package."
      ]
    },
    {
      "cell_type": "code",
      "metadata": {
        "id": "TwGoC7TImph0",
        "outputId": "123fe086-5a98-4059-e2c5-f32c2fab35ab",
        "colab": {
          "base_uri": "https://localhost:8080/"
        }
      },
      "source": [
        "!pip install git+https://github.com/gro-intelligence/api-client.git #Install Gro api client\n",
        "!pip install dtw # dynamic time warping package for running analogous_years\n",
        "!pip install tsfresh # time series feature extraction package for running analogous_years\n",
        "\n",
        "# from groclient import GroClient\n",
        "from api.client.samples.analogous_years.lib import final_ranks_computation\n",
        "import pandas as pd\n",
        "pd.options.mode.chained_assignment = None # This is to avoid seeing a lot of warnings from pandas"
      ],
      "execution_count": 2,
      "outputs": [
        {
          "output_type": "stream",
          "text": [
            "Collecting git+https://github.com/gro-intelligence/api-client.git\n",
            "  Cloning https://github.com/gro-intelligence/api-client.git to /tmp/pip-req-build-wy0s2dly\n",
            "  Running command git clone -q https://github.com/gro-intelligence/api-client.git /tmp/pip-req-build-wy0s2dly\n",
            "Requirement already satisfied (use --upgrade to upgrade): groclient==1.83.0 from git+https://github.com/gro-intelligence/api-client.git in /usr/local/lib/python3.6/dist-packages\n",
            "Requirement already satisfied: backports.functools_lru_cache in /usr/local/lib/python3.6/dist-packages (from groclient==1.83.0) (1.6.1)\n",
            "Requirement already satisfied: certifi in /usr/local/lib/python3.6/dist-packages (from groclient==1.83.0) (2020.6.20)\n",
            "Requirement already satisfied: chardet in /usr/local/lib/python3.6/dist-packages (from groclient==1.83.0) (3.0.4)\n",
            "Requirement already satisfied: future in /usr/local/lib/python3.6/dist-packages (from groclient==1.83.0) (0.16.0)\n",
            "Requirement already satisfied: numpy in /usr/local/lib/python3.6/dist-packages (from groclient==1.83.0) (1.18.5)\n",
            "Requirement already satisfied: pandas in /usr/local/lib/python3.6/dist-packages (from groclient==1.83.0) (1.1.4)\n",
            "Requirement already satisfied: python-dateutil in /usr/local/lib/python3.6/dist-packages (from groclient==1.83.0) (2.8.1)\n",
            "Requirement already satisfied: pytz in /usr/local/lib/python3.6/dist-packages (from groclient==1.83.0) (2018.9)\n",
            "Requirement already satisfied: requests in /usr/local/lib/python3.6/dist-packages (from groclient==1.83.0) (2.23.0)\n",
            "Requirement already satisfied: tornado in /usr/local/lib/python3.6/dist-packages (from groclient==1.83.0) (5.1.1)\n",
            "Requirement already satisfied: unicodecsv in /usr/local/lib/python3.6/dist-packages (from groclient==1.83.0) (0.14.1)\n",
            "Requirement already satisfied: urllib3 in /usr/local/lib/python3.6/dist-packages (from groclient==1.83.0) (1.24.3)\n",
            "Requirement already satisfied: six>=1.5 in /usr/local/lib/python3.6/dist-packages (from python-dateutil->groclient==1.83.0) (1.15.0)\n",
            "Requirement already satisfied: idna<3,>=2.5 in /usr/local/lib/python3.6/dist-packages (from requests->groclient==1.83.0) (2.10)\n",
            "Building wheels for collected packages: groclient\n",
            "  Building wheel for groclient (setup.py) ... \u001b[?25l\u001b[?25hdone\n",
            "  Created wheel for groclient: filename=groclient-1.83.0-cp36-none-any.whl size=79903 sha256=29c3328847f227d1394ebf0485ae568da86c569b3c03e3eee83ddadc710f92dd\n",
            "  Stored in directory: /tmp/pip-ephem-wheel-cache-c39s97db/wheels/22/03/97/10896ebca874c083ebb2c0e99ef60f0224b1c4a0a063dec9d3\n",
            "Successfully built groclient\n",
            "Requirement already satisfied: dtw in /usr/local/lib/python3.6/dist-packages (1.4.0)\n",
            "Requirement already satisfied: scipy in /usr/local/lib/python3.6/dist-packages (from dtw) (1.4.1)\n",
            "Requirement already satisfied: numpy in /usr/local/lib/python3.6/dist-packages (from dtw) (1.18.5)\n",
            "Requirement already satisfied: tsfresh in /usr/local/lib/python3.6/dist-packages (0.17.0)\n",
            "Requirement already satisfied: scikit-learn>=0.19.2 in /usr/local/lib/python3.6/dist-packages (from tsfresh) (0.22.2.post1)\n",
            "Requirement already satisfied: tqdm>=4.10.0 in /usr/local/lib/python3.6/dist-packages (from tsfresh) (4.41.1)\n",
            "Requirement already satisfied: scipy>=1.2.0 in /usr/local/lib/python3.6/dist-packages (from tsfresh) (1.4.1)\n",
            "Requirement already satisfied: requests>=2.9.1 in /usr/local/lib/python3.6/dist-packages (from tsfresh) (2.23.0)\n",
            "Requirement already satisfied: statsmodels>=0.9.0 in /usr/local/lib/python3.6/dist-packages (from tsfresh) (0.10.2)\n",
            "Requirement already satisfied: patsy>=0.4.1 in /usr/local/lib/python3.6/dist-packages (from tsfresh) (0.5.1)\n",
            "Requirement already satisfied: pandas>=0.25.0 in /usr/local/lib/python3.6/dist-packages (from tsfresh) (1.1.4)\n",
            "Requirement already satisfied: distributed>=2.11.0 in /usr/local/lib/python3.6/dist-packages (from tsfresh) (2.30.1)\n",
            "Requirement already satisfied: numpy>=1.15.1 in /usr/local/lib/python3.6/dist-packages (from tsfresh) (1.18.5)\n",
            "Requirement already satisfied: dask[dataframe]>=2.9.0 in /usr/local/lib/python3.6/dist-packages (from tsfresh) (2.12.0)\n",
            "Requirement already satisfied: joblib>=0.11 in /usr/local/lib/python3.6/dist-packages (from scikit-learn>=0.19.2->tsfresh) (0.17.0)\n",
            "Requirement already satisfied: urllib3!=1.25.0,!=1.25.1,<1.26,>=1.21.1 in /usr/local/lib/python3.6/dist-packages (from requests>=2.9.1->tsfresh) (1.24.3)\n",
            "Requirement already satisfied: idna<3,>=2.5 in /usr/local/lib/python3.6/dist-packages (from requests>=2.9.1->tsfresh) (2.10)\n",
            "Requirement already satisfied: chardet<4,>=3.0.2 in /usr/local/lib/python3.6/dist-packages (from requests>=2.9.1->tsfresh) (3.0.4)\n",
            "Requirement already satisfied: certifi>=2017.4.17 in /usr/local/lib/python3.6/dist-packages (from requests>=2.9.1->tsfresh) (2020.6.20)\n",
            "Requirement already satisfied: six in /usr/local/lib/python3.6/dist-packages (from patsy>=0.4.1->tsfresh) (1.15.0)\n",
            "Requirement already satisfied: pytz>=2017.2 in /usr/local/lib/python3.6/dist-packages (from pandas>=0.25.0->tsfresh) (2018.9)\n",
            "Requirement already satisfied: python-dateutil>=2.7.3 in /usr/local/lib/python3.6/dist-packages (from pandas>=0.25.0->tsfresh) (2.8.1)\n",
            "Requirement already satisfied: sortedcontainers!=2.0.0,!=2.0.1 in /usr/local/lib/python3.6/dist-packages (from distributed>=2.11.0->tsfresh) (2.2.2)\n",
            "Requirement already satisfied: msgpack>=0.6.0 in /usr/local/lib/python3.6/dist-packages (from distributed>=2.11.0->tsfresh) (1.0.0)\n",
            "Requirement already satisfied: tblib>=1.6.0 in /usr/local/lib/python3.6/dist-packages (from distributed>=2.11.0->tsfresh) (1.7.0)\n",
            "Requirement already satisfied: setuptools in /usr/local/lib/python3.6/dist-packages (from distributed>=2.11.0->tsfresh) (50.3.2)\n",
            "Requirement already satisfied: cloudpickle>=1.5.0 in /usr/local/lib/python3.6/dist-packages (from distributed>=2.11.0->tsfresh) (1.6.0)\n",
            "Requirement already satisfied: psutil>=5.0 in /usr/local/lib/python3.6/dist-packages (from distributed>=2.11.0->tsfresh) (5.4.8)\n",
            "Requirement already satisfied: toolz>=0.8.2 in /usr/local/lib/python3.6/dist-packages (from distributed>=2.11.0->tsfresh) (0.11.1)\n",
            "Requirement already satisfied: tornado>=5; python_version < \"3.8\" in /usr/local/lib/python3.6/dist-packages (from distributed>=2.11.0->tsfresh) (5.1.1)\n",
            "Requirement already satisfied: pyyaml in /usr/local/lib/python3.6/dist-packages (from distributed>=2.11.0->tsfresh) (3.13)\n",
            "Requirement already satisfied: click>=6.6 in /usr/local/lib/python3.6/dist-packages (from distributed>=2.11.0->tsfresh) (7.1.2)\n",
            "Requirement already satisfied: contextvars; python_version < \"3.7\" in /usr/local/lib/python3.6/dist-packages (from distributed>=2.11.0->tsfresh) (2.4)\n",
            "Requirement already satisfied: zict>=0.1.3 in /usr/local/lib/python3.6/dist-packages (from distributed>=2.11.0->tsfresh) (2.0.0)\n",
            "Requirement already satisfied: partd>=0.3.10; extra == \"dataframe\" in /usr/local/lib/python3.6/dist-packages (from dask[dataframe]>=2.9.0->tsfresh) (1.1.0)\n",
            "Requirement already satisfied: fsspec>=0.6.0; extra == \"dataframe\" in /usr/local/lib/python3.6/dist-packages (from dask[dataframe]>=2.9.0->tsfresh) (0.8.4)\n",
            "Requirement already satisfied: immutables>=0.9 in /usr/local/lib/python3.6/dist-packages (from contextvars; python_version < \"3.7\"->distributed>=2.11.0->tsfresh) (0.14)\n",
            "Requirement already satisfied: heapdict in /usr/local/lib/python3.6/dist-packages (from zict>=0.1.3->distributed>=2.11.0->tsfresh) (1.0.1)\n",
            "Requirement already satisfied: locket in /usr/local/lib/python3.6/dist-packages (from partd>=0.3.10; extra == \"dataframe\"->dask[dataframe]>=2.9.0->tsfresh) (0.2.0)\n"
          ],
          "name": "stdout"
        },
        {
          "output_type": "stream",
          "text": [
            "\n",
            "    Deprecation Warning!\n",
            "\n",
            "    You are importing modules from deprecated `api` module to access Gro\n",
            "    Intelligence's API.  Please update your code to import from the `groclient`\n",
            "    module instead.  The `api` module will be removed by 2021-03-31.\n",
            "\n",
            "    Replace: from api.client.gro_client import GroClient\n",
            "       with: from groclient import GroClient\n",
            "\n",
            "    And replace any other imports from `api.client.*` with imports from\n",
            "    `groclient.*` instead.\n",
            "\n",
            "    Please reach out to api-support@gro-intelligence.com if you need any help!\n",
            "\n",
            "/usr/local/lib/python3.6/dist-packages/statsmodels/tools/_testing.py:19: FutureWarning: pandas.util.testing is deprecated. Use the functions in the public API at pandas.testing instead.\n",
            "  import pandas.util.testing as tm\n"
          ],
          "name": "stderr"
        }
      ]
    },
    {
      "cell_type": "markdown",
      "metadata": {
        "id": "Iy6kc5kDeRz_"
      },
      "source": [
        "## 1. Fill in the API access token (User input required)\n",
        "\n",
        "You have to fill in the variable `GROAPI_TOKEN` below, with your personal access token (assuming you have not done so in the first cell)."
      ]
    },
    {
      "cell_type": "code",
      "metadata": {
        "id": "KsMdexBEqQka"
      },
      "source": [
        "GROAPI_TOKEN = None\n",
        "if not GROAPI_TOKEN:\n",
        "  GROAPI_TOKEN = config['DEFAULT']['GROAPI_TOKEN']"
      ],
      "execution_count": 3,
      "outputs": []
    },
    {
      "cell_type": "markdown",
      "metadata": {
        "id": "vIdezZVrenvx"
      },
      "source": [
        "## 2B. Adding data series and dates (User input required)\n",
        "# Brazil\n",
        "\n",
        "We are interested in 4 regions in Brazil\n",
        "\n",
        "1. Mato Grosso\n"
      ]
    },
    {
      "cell_type": "code",
      "metadata": {
        "id": "arVZL_AVrqNj"
      },
      "source": [
        "# Soil moisture on cropland - Availability in soil (volume/volume) - \n",
        "# Mato Grosso (Gro Derived Geospatial)\n",
        "mato_grosso_soil_moisture = {'metric_id': 15531082, \n",
        "\t'item_id': 8938,\n",
        "\t'region_id': [10418, 10417, 10406, 10424],\n",
        "\t'partner_region_id': 0, \n",
        "\t'source_id': 82, \n",
        "\t'frequency_id': 1}\n",
        "\n",
        "# Rainfall - Precipitation Quantity - Mato Grosso (NASA GPM 3IMERGDL)\n",
        "mato_grosso_rainfall = {\n",
        "\t'metric_id': 2100031, \n",
        "\t'item_id': 2039, \n",
        "\t'region_id': 10418, \n",
        "\t'partner_region_id': 0, \n",
        "\t'source_id': 126, \n",
        "\t'frequency_id': 6, \n",
        "\t'unit_id': 2, \n",
        "}\n",
        "\n",
        "# Land temperature (daytime) - Temperature - Mato Grosso (NASA MODIS MOD11 LST)\n",
        "mato_grosso_temperature = {\n",
        "\t'metric_id': 2540047, \n",
        "\t'item_id': 3457, \n",
        "\t'region_id': 10418, \n",
        "\t'partner_region_id': 0, \n",
        "\t'source_id': 26, \n",
        "\t'frequency_id': 6, \n",
        "\t'unit_id': 36, \n",
        "}\n",
        "\n",
        "\n",
        "mato_grosso_series_list = [\n",
        "               mato_grosso_soil_moisture,\n",
        "               mato_grosso_rainfall,\n",
        "               mato_grosso_temperature\n",
        "               ]"
      ],
      "execution_count": 4,
      "outputs": []
    },
    {
      "cell_type": "markdown",
      "metadata": {
        "id": "TuC22z6zCxAY"
      },
      "source": [
        "2. Mato Grosso do Sul"
      ]
    },
    {
      "cell_type": "code",
      "metadata": {
        "id": "T0qmyPFWAEqw"
      },
      "source": [
        "# Soil moisture on cropland - Availability in soil (volume/volume) - \n",
        "# Mato Grosso do Sul (Gro Derived Geospatial)\n",
        "mato_grosso_do_sul_soil_moisture = {'metric_id': 15531082, \n",
        "\t'item_id': 8938,\n",
        "\t'region_id': 10417,\n",
        "\t'partner_region_id': 0, \n",
        "\t'source_id': 82, \n",
        "\t'frequency_id': 1}\n",
        "\n",
        "# Rainfall - Precipitation Quantity - Mato Grosso do Sul (NASA GPM 3IMERGDL)\n",
        "mato_grosso_do_sul_rainfall = {\n",
        "\t'metric_id': 2100031, \n",
        "\t'item_id': 2039, \n",
        "\t'region_id': 10417, \n",
        "\t'partner_region_id': 0, \n",
        "\t'source_id': 126, \n",
        "\t'frequency_id': 6, \n",
        "\t'unit_id': 2, \n",
        "}\n",
        "\n",
        "# Land temperature (daytime) - Temperature - Mato Grosso do Sul \n",
        "# (NASA MODIS MOD11 LST)\n",
        "mato_grosso_do_sul_temperature = {\n",
        "\t'metric_id': 2540047, \n",
        "\t'item_id': 3457, \n",
        "\t'region_id': 10417, \n",
        "\t'partner_region_id': 0, \n",
        "\t'source_id': 26, \n",
        "\t'frequency_id': 6, \n",
        "\t'unit_id': 36, \n",
        "}\n",
        "\n",
        "\n",
        "mato_grosso_do_sul_series_list = [\n",
        "               mato_grosso_do_sul_soil_moisture,\n",
        "               mato_grosso_do_sul_rainfall,\n",
        "               mato_grosso_do_sul_temperature\n",
        "               ]\n"
      ],
      "execution_count": 5,
      "outputs": []
    },
    {
      "cell_type": "markdown",
      "metadata": {
        "id": "ckRF-SJnC4BM"
      },
      "source": [
        "3. Parana"
      ]
    },
    {
      "cell_type": "code",
      "metadata": {
        "id": "iK5jZjsSArlB"
      },
      "source": [
        "# Soil moisture on cropland - Availability in soil (volume/volume) - \n",
        "# Parana (Gro Derived Geospatial)\n",
        "parana_soil_moisture = {'metric_id': 15531082, \n",
        "\t'item_id': 8938,\n",
        "\t'region_id': 10406,\n",
        "\t'partner_region_id': 0, \n",
        "\t'source_id': 82, \n",
        "\t'frequency_id': 1}\n",
        "\n",
        "# Rainfall - Precipitation Quantity - Parana (NASA GPM 3IMERGDL)\n",
        "parana_rainfall = {\n",
        "\t'metric_id': 2100031, \n",
        "\t'item_id': 2039, \n",
        "\t'region_id': 10406, \n",
        "\t'partner_region_id': 0, \n",
        "\t'source_id': 126, \n",
        "\t'frequency_id': 6, \n",
        "\t'unit_id': 2, \n",
        "}\n",
        "\n",
        "# Land temperature (daytime) - Temperature - Parana (NASA MODIS MOD11 LST)\n",
        "parana_temperature = {\n",
        "\t'metric_id': 2540047, \n",
        "\t'item_id': 3457, \n",
        "\t'region_id': 10406, \n",
        "\t'partner_region_id': 0, \n",
        "\t'source_id': 26, \n",
        "\t'frequency_id': 6, \n",
        "\t'unit_id': 36, \n",
        "}\n",
        "\n",
        "\n",
        "parana_series_list = [\n",
        "               parana_soil_moisture,\n",
        "               parana_rainfall,\n",
        "               parana_temperature\n",
        "               ]\n"
      ],
      "execution_count": 6,
      "outputs": []
    },
    {
      "cell_type": "markdown",
      "metadata": {
        "id": "n-a_JBDjC7-m"
      },
      "source": [
        "4. Rio Grande do Sul"
      ]
    },
    {
      "cell_type": "code",
      "metadata": {
        "id": "LaJTKS-6BpJg"
      },
      "source": [
        "# Soil moisture on cropland - Availability in soil (volume/volume) - \n",
        "# Rio Grande do Sul (Gro Derived Geospatial)\n",
        "rio_grande_do_sul_soil_moisture = {'metric_id': 15531082, \n",
        "\t'item_id': 8938,\n",
        "\t'region_id': 10424,\n",
        "\t'partner_region_id': 0, \n",
        "\t'source_id': 82, \n",
        "\t'frequency_id': 1}\n",
        "\n",
        "# Rainfall - Precipitation Quantity - Rio Grande do Sul (NASA GPM 3IMERGDL)\n",
        "rio_grande_do_sul_rainfall = {\n",
        "\t'metric_id': 2100031, \n",
        "\t'item_id': 2039, \n",
        "\t'region_id': 10424, \n",
        "\t'partner_region_id': 0, \n",
        "\t'source_id': 126, \n",
        "\t'frequency_id': 6, \n",
        "\t'unit_id': 2, \n",
        "}\n",
        "\n",
        "# Land temperature (daytime) - Temperature - Rio Grande do Sul (NASA MODIS MOD11 LST)\n",
        "rio_grande_do_sul_temperature = {\n",
        "\t'metric_id': 2540047, \n",
        "\t'item_id': 3457, \n",
        "\t'region_id': 10424, \n",
        "\t'partner_region_id': 0, \n",
        "\t'source_id': 26, \n",
        "\t'frequency_id': 6, \n",
        "\t'unit_id': 36, \n",
        "}\n",
        "\n",
        "\n",
        "rio_grande_do_sul_series_list = [\n",
        "               rio_grande_do_sul_soil_moisture,\n",
        "               rio_grande_do_sul_rainfall,\n",
        "               rio_grande_do_sul_temperature\n",
        "               ]\n"
      ],
      "execution_count": 7,
      "outputs": []
    },
    {
      "cell_type": "markdown",
      "metadata": {
        "id": "KoEP-poGDK-_"
      },
      "source": [
        "## Dates for Brazil\n"
      ]
    },
    {
      "cell_type": "code",
      "metadata": {
        "id": "UvkVnC00DPiv"
      },
      "source": [
        "initial_date_brazil = '2020-06-01'\n",
        "final_date_brazil = '2020-11-02'"
      ],
      "execution_count": 8,
      "outputs": []
    },
    {
      "cell_type": "markdown",
      "metadata": {
        "id": "gXdn_H0ne8f2"
      },
      "source": [
        "## 3B. Vanilla Analogous Years Rank Brazil\n",
        "The output will be a pandas dataframe containg the ranks computed by ensembling several distance calculation methods."
      ]
    },
    {
      "cell_type": "markdown",
      "metadata": {
        "id": "rIUHAanGFrK9"
      },
      "source": [
        "Mato Grosso"
      ]
    },
    {
      "cell_type": "code",
      "metadata": {
        "id": "qv99nZcPr284",
        "outputId": "f9ab7ad0-424c-4445-f5e3-1dbb91ae589c",
        "colab": {
          "base_uri": "https://localhost:8080/",
          "height": 495
        }
      },
      "source": [
        "result_mato_grosso = final_ranks_computation.analogous_years(\n",
        "    GROAPI_TOKEN, mato_grosso_series_list, initial_date_brazil, final_date_brazil, enso=True, all_ranks=True)\n",
        "result_mato_grosso"
      ],
      "execution_count": 9,
      "outputs": [
        {
          "output_type": "stream",
          "text": [
            "Feature Extraction: 100%|██████████| 11/11 [00:01<00:00,  9.26it/s]\n",
            "Feature Extraction: 100%|██████████| 11/11 [00:01<00:00,  9.55it/s]\n",
            "Feature Extraction: 100%|██████████| 11/11 [00:01<00:00,  9.45it/s]\n",
            "Feature Extraction: 100%|██████████| 11/11 [00:01<00:00,  9.52it/s]\n"
          ],
          "name": "stderr"
        },
        {
          "output_type": "execute_result",
          "data": {
            "text/html": [
              "<div>\n",
              "<style scoped>\n",
              "    .dataframe tbody tr th:only-of-type {\n",
              "        vertical-align: middle;\n",
              "    }\n",
              "\n",
              "    .dataframe tbody tr th {\n",
              "        vertical-align: top;\n",
              "    }\n",
              "\n",
              "    .dataframe thead th {\n",
              "        text-align: right;\n",
              "    }\n",
              "</style>\n",
              "<table border=\"1\" class=\"dataframe\">\n",
              "  <thead>\n",
              "    <tr style=\"text-align: right;\">\n",
              "      <th></th>\n",
              "      <th>cumulative_rank</th>\n",
              "      <th>euclidean_rank</th>\n",
              "      <th>ts-features_rank</th>\n",
              "      <th>composite_rank</th>\n",
              "    </tr>\n",
              "    <tr>\n",
              "      <th>period</th>\n",
              "      <th></th>\n",
              "      <th></th>\n",
              "      <th></th>\n",
              "      <th></th>\n",
              "    </tr>\n",
              "  </thead>\n",
              "  <tbody>\n",
              "    <tr>\n",
              "      <th>2010-06-01 to 2010-11-02</th>\n",
              "      <td>4</td>\n",
              "      <td>4</td>\n",
              "      <td>3</td>\n",
              "      <td>4</td>\n",
              "    </tr>\n",
              "    <tr>\n",
              "      <th>2011-06-01 to 2011-11-02</th>\n",
              "      <td>11</td>\n",
              "      <td>11</td>\n",
              "      <td>11</td>\n",
              "      <td>11</td>\n",
              "    </tr>\n",
              "    <tr>\n",
              "      <th>2012-06-01 to 2012-11-02</th>\n",
              "      <td>5</td>\n",
              "      <td>5</td>\n",
              "      <td>5</td>\n",
              "      <td>5</td>\n",
              "    </tr>\n",
              "    <tr>\n",
              "      <th>2013-06-01 to 2013-11-02</th>\n",
              "      <td>10</td>\n",
              "      <td>9</td>\n",
              "      <td>7</td>\n",
              "      <td>10</td>\n",
              "    </tr>\n",
              "    <tr>\n",
              "      <th>2014-06-01 to 2014-11-02</th>\n",
              "      <td>9</td>\n",
              "      <td>7</td>\n",
              "      <td>8</td>\n",
              "      <td>8</td>\n",
              "    </tr>\n",
              "    <tr>\n",
              "      <th>2015-06-01 to 2015-11-02</th>\n",
              "      <td>6</td>\n",
              "      <td>6</td>\n",
              "      <td>9</td>\n",
              "      <td>6</td>\n",
              "    </tr>\n",
              "    <tr>\n",
              "      <th>2016-06-01 to 2016-11-02</th>\n",
              "      <td>8</td>\n",
              "      <td>10</td>\n",
              "      <td>10</td>\n",
              "      <td>9</td>\n",
              "    </tr>\n",
              "    <tr>\n",
              "      <th>2017-06-01 to 2017-11-02</th>\n",
              "      <td>3</td>\n",
              "      <td>3</td>\n",
              "      <td>4</td>\n",
              "      <td>3</td>\n",
              "    </tr>\n",
              "    <tr>\n",
              "      <th>2018-06-01 to 2018-11-02</th>\n",
              "      <td>7</td>\n",
              "      <td>8</td>\n",
              "      <td>6</td>\n",
              "      <td>7</td>\n",
              "    </tr>\n",
              "    <tr>\n",
              "      <th>2019-06-01 to 2019-11-02</th>\n",
              "      <td>2</td>\n",
              "      <td>2</td>\n",
              "      <td>2</td>\n",
              "      <td>2</td>\n",
              "    </tr>\n",
              "    <tr>\n",
              "      <th>2020-06-01 to 2020-11-02</th>\n",
              "      <td>1</td>\n",
              "      <td>1</td>\n",
              "      <td>1</td>\n",
              "      <td>1</td>\n",
              "    </tr>\n",
              "  </tbody>\n",
              "</table>\n",
              "</div>"
            ],
            "text/plain": [
              "                          cumulative_rank  ...  composite_rank\n",
              "period                                     ...                \n",
              "2010-06-01 to 2010-11-02                4  ...               4\n",
              "2011-06-01 to 2011-11-02               11  ...              11\n",
              "2012-06-01 to 2012-11-02                5  ...               5\n",
              "2013-06-01 to 2013-11-02               10  ...              10\n",
              "2014-06-01 to 2014-11-02                9  ...               8\n",
              "2015-06-01 to 2015-11-02                6  ...               6\n",
              "2016-06-01 to 2016-11-02                8  ...               9\n",
              "2017-06-01 to 2017-11-02                3  ...               3\n",
              "2018-06-01 to 2018-11-02                7  ...               7\n",
              "2019-06-01 to 2019-11-02                2  ...               2\n",
              "2020-06-01 to 2020-11-02                1  ...               1\n",
              "\n",
              "[11 rows x 4 columns]"
            ]
          },
          "metadata": {
            "tags": []
          },
          "execution_count": 9
        }
      ]
    },
    {
      "cell_type": "markdown",
      "metadata": {
        "id": "S8oV9JOQFt4J"
      },
      "source": [
        "Mato Grosso do Sul"
      ]
    },
    {
      "cell_type": "code",
      "metadata": {
        "id": "-OTgWK2DYVkc",
        "outputId": "9c6de72b-c249-4d9b-d1b7-0b776dd388b4",
        "colab": {
          "base_uri": "https://localhost:8080/",
          "height": 495
        }
      },
      "source": [
        "result_mato_grosso_do_sul = final_ranks_computation.analogous_years(\n",
        "    GROAPI_TOKEN, mato_grosso_do_sul_series_list, initial_date_brazil, final_date_brazil, enso=True, all_ranks=True)\n",
        "result_mato_grosso_do_sul"
      ],
      "execution_count": 10,
      "outputs": [
        {
          "output_type": "stream",
          "text": [
            "Feature Extraction: 100%|██████████| 11/11 [00:01<00:00, 10.17it/s]\n",
            "Feature Extraction: 100%|██████████| 11/11 [00:01<00:00,  9.43it/s]\n",
            "Feature Extraction: 100%|██████████| 11/11 [00:01<00:00,  9.64it/s]\n",
            "Feature Extraction: 100%|██████████| 11/11 [00:01<00:00,  9.84it/s]\n"
          ],
          "name": "stderr"
        },
        {
          "output_type": "execute_result",
          "data": {
            "text/html": [
              "<div>\n",
              "<style scoped>\n",
              "    .dataframe tbody tr th:only-of-type {\n",
              "        vertical-align: middle;\n",
              "    }\n",
              "\n",
              "    .dataframe tbody tr th {\n",
              "        vertical-align: top;\n",
              "    }\n",
              "\n",
              "    .dataframe thead th {\n",
              "        text-align: right;\n",
              "    }\n",
              "</style>\n",
              "<table border=\"1\" class=\"dataframe\">\n",
              "  <thead>\n",
              "    <tr style=\"text-align: right;\">\n",
              "      <th></th>\n",
              "      <th>cumulative_rank</th>\n",
              "      <th>euclidean_rank</th>\n",
              "      <th>ts-features_rank</th>\n",
              "      <th>composite_rank</th>\n",
              "    </tr>\n",
              "    <tr>\n",
              "      <th>period</th>\n",
              "      <th></th>\n",
              "      <th></th>\n",
              "      <th></th>\n",
              "      <th></th>\n",
              "    </tr>\n",
              "  </thead>\n",
              "  <tbody>\n",
              "    <tr>\n",
              "      <th>2010-06-01 to 2010-11-02</th>\n",
              "      <td>2</td>\n",
              "      <td>7</td>\n",
              "      <td>6</td>\n",
              "      <td>4</td>\n",
              "    </tr>\n",
              "    <tr>\n",
              "      <th>2011-06-01 to 2011-11-02</th>\n",
              "      <td>6</td>\n",
              "      <td>5</td>\n",
              "      <td>5</td>\n",
              "      <td>6</td>\n",
              "    </tr>\n",
              "    <tr>\n",
              "      <th>2012-06-01 to 2012-11-02</th>\n",
              "      <td>4</td>\n",
              "      <td>6</td>\n",
              "      <td>4</td>\n",
              "      <td>5</td>\n",
              "    </tr>\n",
              "    <tr>\n",
              "      <th>2013-06-01 to 2013-11-02</th>\n",
              "      <td>8</td>\n",
              "      <td>9</td>\n",
              "      <td>9</td>\n",
              "      <td>8</td>\n",
              "    </tr>\n",
              "    <tr>\n",
              "      <th>2014-06-01 to 2014-11-02</th>\n",
              "      <td>10</td>\n",
              "      <td>11</td>\n",
              "      <td>11</td>\n",
              "      <td>10</td>\n",
              "    </tr>\n",
              "    <tr>\n",
              "      <th>2015-06-01 to 2015-11-02</th>\n",
              "      <td>11</td>\n",
              "      <td>10</td>\n",
              "      <td>10</td>\n",
              "      <td>11</td>\n",
              "    </tr>\n",
              "    <tr>\n",
              "      <th>2016-06-01 to 2016-11-02</th>\n",
              "      <td>5</td>\n",
              "      <td>2</td>\n",
              "      <td>3</td>\n",
              "      <td>3</td>\n",
              "    </tr>\n",
              "    <tr>\n",
              "      <th>2017-06-01 to 2017-11-02</th>\n",
              "      <td>7</td>\n",
              "      <td>4</td>\n",
              "      <td>7</td>\n",
              "      <td>7</td>\n",
              "    </tr>\n",
              "    <tr>\n",
              "      <th>2018-06-01 to 2018-11-02</th>\n",
              "      <td>9</td>\n",
              "      <td>8</td>\n",
              "      <td>8</td>\n",
              "      <td>9</td>\n",
              "    </tr>\n",
              "    <tr>\n",
              "      <th>2019-06-01 to 2019-11-02</th>\n",
              "      <td>3</td>\n",
              "      <td>3</td>\n",
              "      <td>2</td>\n",
              "      <td>2</td>\n",
              "    </tr>\n",
              "    <tr>\n",
              "      <th>2020-06-01 to 2020-11-02</th>\n",
              "      <td>1</td>\n",
              "      <td>1</td>\n",
              "      <td>1</td>\n",
              "      <td>1</td>\n",
              "    </tr>\n",
              "  </tbody>\n",
              "</table>\n",
              "</div>"
            ],
            "text/plain": [
              "                          cumulative_rank  ...  composite_rank\n",
              "period                                     ...                \n",
              "2010-06-01 to 2010-11-02                2  ...               4\n",
              "2011-06-01 to 2011-11-02                6  ...               6\n",
              "2012-06-01 to 2012-11-02                4  ...               5\n",
              "2013-06-01 to 2013-11-02                8  ...               8\n",
              "2014-06-01 to 2014-11-02               10  ...              10\n",
              "2015-06-01 to 2015-11-02               11  ...              11\n",
              "2016-06-01 to 2016-11-02                5  ...               3\n",
              "2017-06-01 to 2017-11-02                7  ...               7\n",
              "2018-06-01 to 2018-11-02                9  ...               9\n",
              "2019-06-01 to 2019-11-02                3  ...               2\n",
              "2020-06-01 to 2020-11-02                1  ...               1\n",
              "\n",
              "[11 rows x 4 columns]"
            ]
          },
          "metadata": {
            "tags": []
          },
          "execution_count": 10
        }
      ]
    },
    {
      "cell_type": "markdown",
      "metadata": {
        "id": "bHn2nrvpFx2q"
      },
      "source": [
        "Parana"
      ]
    },
    {
      "cell_type": "code",
      "metadata": {
        "id": "RDlZr7YkEu33",
        "outputId": "63752b23-80d0-46d4-e27b-b5ae0eaca05e",
        "colab": {
          "base_uri": "https://localhost:8080/",
          "height": 495
        }
      },
      "source": [
        "result_parana = final_ranks_computation.analogous_years(\n",
        "    GROAPI_TOKEN, parana_series_list, initial_date_brazil, final_date_brazil, enso=True, all_ranks=True)\n",
        "result_parana"
      ],
      "execution_count": 11,
      "outputs": [
        {
          "output_type": "stream",
          "text": [
            "Feature Extraction: 100%|██████████| 11/11 [00:01<00:00,  9.81it/s]\n",
            "Feature Extraction: 100%|██████████| 11/11 [00:01<00:00,  9.62it/s]\n",
            "Feature Extraction: 100%|██████████| 11/11 [00:01<00:00,  9.65it/s]\n",
            "Feature Extraction: 100%|██████████| 11/11 [00:01<00:00,  9.63it/s]\n"
          ],
          "name": "stderr"
        },
        {
          "output_type": "execute_result",
          "data": {
            "text/html": [
              "<div>\n",
              "<style scoped>\n",
              "    .dataframe tbody tr th:only-of-type {\n",
              "        vertical-align: middle;\n",
              "    }\n",
              "\n",
              "    .dataframe tbody tr th {\n",
              "        vertical-align: top;\n",
              "    }\n",
              "\n",
              "    .dataframe thead th {\n",
              "        text-align: right;\n",
              "    }\n",
              "</style>\n",
              "<table border=\"1\" class=\"dataframe\">\n",
              "  <thead>\n",
              "    <tr style=\"text-align: right;\">\n",
              "      <th></th>\n",
              "      <th>cumulative_rank</th>\n",
              "      <th>euclidean_rank</th>\n",
              "      <th>ts-features_rank</th>\n",
              "      <th>composite_rank</th>\n",
              "    </tr>\n",
              "    <tr>\n",
              "      <th>period</th>\n",
              "      <th></th>\n",
              "      <th></th>\n",
              "      <th></th>\n",
              "      <th></th>\n",
              "    </tr>\n",
              "  </thead>\n",
              "  <tbody>\n",
              "    <tr>\n",
              "      <th>2010-06-01 to 2010-11-02</th>\n",
              "      <td>3</td>\n",
              "      <td>8</td>\n",
              "      <td>8</td>\n",
              "      <td>3</td>\n",
              "    </tr>\n",
              "    <tr>\n",
              "      <th>2011-06-01 to 2011-11-02</th>\n",
              "      <td>10</td>\n",
              "      <td>3</td>\n",
              "      <td>3</td>\n",
              "      <td>7</td>\n",
              "    </tr>\n",
              "    <tr>\n",
              "      <th>2012-06-01 to 2012-11-02</th>\n",
              "      <td>2</td>\n",
              "      <td>4</td>\n",
              "      <td>2</td>\n",
              "      <td>2</td>\n",
              "    </tr>\n",
              "    <tr>\n",
              "      <th>2013-06-01 to 2013-11-02</th>\n",
              "      <td>5</td>\n",
              "      <td>7</td>\n",
              "      <td>4</td>\n",
              "      <td>4</td>\n",
              "    </tr>\n",
              "    <tr>\n",
              "      <th>2014-06-01 to 2014-11-02</th>\n",
              "      <td>9</td>\n",
              "      <td>9</td>\n",
              "      <td>6</td>\n",
              "      <td>9</td>\n",
              "    </tr>\n",
              "    <tr>\n",
              "      <th>2015-06-01 to 2015-11-02</th>\n",
              "      <td>11</td>\n",
              "      <td>11</td>\n",
              "      <td>11</td>\n",
              "      <td>11</td>\n",
              "    </tr>\n",
              "    <tr>\n",
              "      <th>2016-06-01 to 2016-11-02</th>\n",
              "      <td>8</td>\n",
              "      <td>5</td>\n",
              "      <td>7</td>\n",
              "      <td>8</td>\n",
              "    </tr>\n",
              "    <tr>\n",
              "      <th>2017-06-01 to 2017-11-02</th>\n",
              "      <td>6</td>\n",
              "      <td>10</td>\n",
              "      <td>10</td>\n",
              "      <td>10</td>\n",
              "    </tr>\n",
              "    <tr>\n",
              "      <th>2018-06-01 to 2018-11-02</th>\n",
              "      <td>4</td>\n",
              "      <td>6</td>\n",
              "      <td>9</td>\n",
              "      <td>5</td>\n",
              "    </tr>\n",
              "    <tr>\n",
              "      <th>2019-06-01 to 2019-11-02</th>\n",
              "      <td>7</td>\n",
              "      <td>2</td>\n",
              "      <td>5</td>\n",
              "      <td>6</td>\n",
              "    </tr>\n",
              "    <tr>\n",
              "      <th>2020-06-01 to 2020-11-02</th>\n",
              "      <td>1</td>\n",
              "      <td>1</td>\n",
              "      <td>1</td>\n",
              "      <td>1</td>\n",
              "    </tr>\n",
              "  </tbody>\n",
              "</table>\n",
              "</div>"
            ],
            "text/plain": [
              "                          cumulative_rank  ...  composite_rank\n",
              "period                                     ...                \n",
              "2010-06-01 to 2010-11-02                3  ...               3\n",
              "2011-06-01 to 2011-11-02               10  ...               7\n",
              "2012-06-01 to 2012-11-02                2  ...               2\n",
              "2013-06-01 to 2013-11-02                5  ...               4\n",
              "2014-06-01 to 2014-11-02                9  ...               9\n",
              "2015-06-01 to 2015-11-02               11  ...              11\n",
              "2016-06-01 to 2016-11-02                8  ...               8\n",
              "2017-06-01 to 2017-11-02                6  ...              10\n",
              "2018-06-01 to 2018-11-02                4  ...               5\n",
              "2019-06-01 to 2019-11-02                7  ...               6\n",
              "2020-06-01 to 2020-11-02                1  ...               1\n",
              "\n",
              "[11 rows x 4 columns]"
            ]
          },
          "metadata": {
            "tags": []
          },
          "execution_count": 11
        }
      ]
    },
    {
      "cell_type": "markdown",
      "metadata": {
        "id": "Ll8FgCupF0Yk"
      },
      "source": [
        "Rio Grande do Sul"
      ]
    },
    {
      "cell_type": "code",
      "metadata": {
        "id": "S9zA1vPZFQvC",
        "outputId": "7ac7773d-0a62-4d97-8104-5e5fc8155dbf",
        "colab": {
          "base_uri": "https://localhost:8080/",
          "height": 495
        }
      },
      "source": [
        "result_rio_grande_do_sul = final_ranks_computation.analogous_years(\n",
        "    GROAPI_TOKEN, rio_grande_do_sul_series_list, initial_date_brazil, final_date_brazil, enso=True, all_ranks=True)\n",
        "result_rio_grande_do_sul"
      ],
      "execution_count": 12,
      "outputs": [
        {
          "output_type": "stream",
          "text": [
            "Feature Extraction: 100%|██████████| 11/11 [00:01<00:00,  9.75it/s]\n",
            "Feature Extraction: 100%|██████████| 11/11 [00:01<00:00,  9.55it/s]\n",
            "Feature Extraction: 100%|██████████| 11/11 [00:01<00:00,  9.55it/s]\n",
            "Feature Extraction: 100%|██████████| 11/11 [00:01<00:00,  9.48it/s]\n"
          ],
          "name": "stderr"
        },
        {
          "output_type": "execute_result",
          "data": {
            "text/html": [
              "<div>\n",
              "<style scoped>\n",
              "    .dataframe tbody tr th:only-of-type {\n",
              "        vertical-align: middle;\n",
              "    }\n",
              "\n",
              "    .dataframe tbody tr th {\n",
              "        vertical-align: top;\n",
              "    }\n",
              "\n",
              "    .dataframe thead th {\n",
              "        text-align: right;\n",
              "    }\n",
              "</style>\n",
              "<table border=\"1\" class=\"dataframe\">\n",
              "  <thead>\n",
              "    <tr style=\"text-align: right;\">\n",
              "      <th></th>\n",
              "      <th>cumulative_rank</th>\n",
              "      <th>euclidean_rank</th>\n",
              "      <th>ts-features_rank</th>\n",
              "      <th>composite_rank</th>\n",
              "    </tr>\n",
              "    <tr>\n",
              "      <th>period</th>\n",
              "      <th></th>\n",
              "      <th></th>\n",
              "      <th></th>\n",
              "      <th></th>\n",
              "    </tr>\n",
              "  </thead>\n",
              "  <tbody>\n",
              "    <tr>\n",
              "      <th>2010-06-01 to 2010-11-02</th>\n",
              "      <td>7</td>\n",
              "      <td>3</td>\n",
              "      <td>3</td>\n",
              "      <td>3</td>\n",
              "    </tr>\n",
              "    <tr>\n",
              "      <th>2011-06-01 to 2011-11-02</th>\n",
              "      <td>8</td>\n",
              "      <td>5</td>\n",
              "      <td>2</td>\n",
              "      <td>4</td>\n",
              "    </tr>\n",
              "    <tr>\n",
              "      <th>2012-06-01 to 2012-11-02</th>\n",
              "      <td>3</td>\n",
              "      <td>7</td>\n",
              "      <td>8</td>\n",
              "      <td>6</td>\n",
              "    </tr>\n",
              "    <tr>\n",
              "      <th>2013-06-01 to 2013-11-02</th>\n",
              "      <td>9</td>\n",
              "      <td>4</td>\n",
              "      <td>4</td>\n",
              "      <td>5</td>\n",
              "    </tr>\n",
              "    <tr>\n",
              "      <th>2014-06-01 to 2014-11-02</th>\n",
              "      <td>10</td>\n",
              "      <td>6</td>\n",
              "      <td>6</td>\n",
              "      <td>10</td>\n",
              "    </tr>\n",
              "    <tr>\n",
              "      <th>2015-06-01 to 2015-11-02</th>\n",
              "      <td>11</td>\n",
              "      <td>8</td>\n",
              "      <td>7</td>\n",
              "      <td>11</td>\n",
              "    </tr>\n",
              "    <tr>\n",
              "      <th>2016-06-01 to 2016-11-02</th>\n",
              "      <td>4</td>\n",
              "      <td>11</td>\n",
              "      <td>10</td>\n",
              "      <td>8</td>\n",
              "    </tr>\n",
              "    <tr>\n",
              "      <th>2017-06-01 to 2017-11-02</th>\n",
              "      <td>6</td>\n",
              "      <td>10</td>\n",
              "      <td>11</td>\n",
              "      <td>9</td>\n",
              "    </tr>\n",
              "    <tr>\n",
              "      <th>2018-06-01 to 2018-11-02</th>\n",
              "      <td>5</td>\n",
              "      <td>2</td>\n",
              "      <td>5</td>\n",
              "      <td>2</td>\n",
              "    </tr>\n",
              "    <tr>\n",
              "      <th>2019-06-01 to 2019-11-02</th>\n",
              "      <td>2</td>\n",
              "      <td>9</td>\n",
              "      <td>9</td>\n",
              "      <td>7</td>\n",
              "    </tr>\n",
              "    <tr>\n",
              "      <th>2020-06-01 to 2020-11-02</th>\n",
              "      <td>1</td>\n",
              "      <td>1</td>\n",
              "      <td>1</td>\n",
              "      <td>1</td>\n",
              "    </tr>\n",
              "  </tbody>\n",
              "</table>\n",
              "</div>"
            ],
            "text/plain": [
              "                          cumulative_rank  ...  composite_rank\n",
              "period                                     ...                \n",
              "2010-06-01 to 2010-11-02                7  ...               3\n",
              "2011-06-01 to 2011-11-02                8  ...               4\n",
              "2012-06-01 to 2012-11-02                3  ...               6\n",
              "2013-06-01 to 2013-11-02                9  ...               5\n",
              "2014-06-01 to 2014-11-02               10  ...              10\n",
              "2015-06-01 to 2015-11-02               11  ...              11\n",
              "2016-06-01 to 2016-11-02                4  ...               8\n",
              "2017-06-01 to 2017-11-02                6  ...               9\n",
              "2018-06-01 to 2018-11-02                5  ...               2\n",
              "2019-06-01 to 2019-11-02                2  ...               7\n",
              "2020-06-01 to 2020-11-02                1  ...               1\n",
              "\n",
              "[11 rows x 4 columns]"
            ]
          },
          "metadata": {
            "tags": []
          },
          "execution_count": 12
        }
      ]
    },
    {
      "cell_type": "markdown",
      "metadata": {
        "id": "rm7PjLbuF--B"
      },
      "source": [
        "## 2A. Adding data series and dates (User input required)\n",
        "# Argentina\n",
        "\n",
        "We are interested in 4 regions in Argentina\n",
        "\n",
        "1. Cordoba\n"
      ]
    },
    {
      "cell_type": "code",
      "metadata": {
        "id": "EEfL1J26F-Bj"
      },
      "source": [
        "# Soil moisture on cropland - Availability in soil (volume/volume) - \n",
        "# Cordoba (Gro Derived Geospatial)\n",
        "cordoba_soil_moisture = {'metric_id': 15531082, \n",
        "\t'item_id': 8938,\n",
        "\t'region_id': 10141,\n",
        "\t'partner_region_id': 0, \n",
        "\t'source_id': 82, \n",
        "\t'frequency_id': 1}\n",
        "\n",
        "# Rainfall - Precipitation Quantity - Cordoba (NASA GPM 3IMERGDL)\n",
        "cordoba_rainfall = {\n",
        "\t'metric_id': 2100031, \n",
        "\t'item_id': 2039, \n",
        "\t'region_id': 10141, \n",
        "\t'partner_region_id': 0, \n",
        "\t'source_id': 126, \n",
        "\t'frequency_id': 6, \n",
        "\t'unit_id': 2, \n",
        "}\n",
        "\n",
        "# Land temperature (daytime) - Temperature - Cordoba \n",
        "# (NASA MODIS MOD11 LST)\n",
        "cordoba_temperature = {\n",
        "\t'metric_id': 2540047, \n",
        "\t'item_id': 3457, \n",
        "\t'region_id': 10141, \n",
        "\t'partner_region_id': 0, \n",
        "\t'source_id': 26, \n",
        "\t'frequency_id': 6, \n",
        "\t'unit_id': 36, \n",
        "}\n",
        "\n",
        "\n",
        "cordoba_series_list = [\n",
        "               cordoba_soil_moisture,\n",
        "               cordoba_rainfall,\n",
        "               cordoba_temperature\n",
        "               ]\n"
      ],
      "execution_count": 13,
      "outputs": []
    },
    {
      "cell_type": "markdown",
      "metadata": {
        "id": "Hq_gokZjGekb"
      },
      "source": [
        "2. Santa Fe"
      ]
    },
    {
      "cell_type": "code",
      "metadata": {
        "id": "38Nt_5pjF9x-"
      },
      "source": [
        "# Soil moisture on cropland - Availability in soil (volume/volume) - \n",
        "# Santa Fe (Gro Derived Geospatial)\n",
        "santa_fe_soil_moisture = {'metric_id': 15531082, \n",
        "\t'item_id': 8938,\n",
        "\t'region_id': 10156,\n",
        "\t'partner_region_id': 0, \n",
        "\t'source_id': 82, \n",
        "\t'frequency_id': 1}\n",
        "\n",
        "# Rainfall - Precipitation Quantity - Santa Fe (NASA GPM 3IMERGDL)\n",
        "santa_fe_rainfall = {\n",
        "\t'metric_id': 2100031, \n",
        "\t'item_id': 2039, \n",
        "\t'region_id': 10156, \n",
        "\t'partner_region_id': 0, \n",
        "\t'source_id': 126, \n",
        "\t'frequency_id': 6, \n",
        "\t'unit_id': 2, \n",
        "}\n",
        "\n",
        "# Land temperature (daytime) - Temperature - Santa Fe\n",
        "# (NASA MODIS MOD11 LST)\n",
        "santa_fe_temperature = {\n",
        "\t'metric_id': 2540047, \n",
        "\t'item_id': 3457, \n",
        "\t'region_id': 10156, \n",
        "\t'partner_region_id': 0, \n",
        "\t'source_id': 26, \n",
        "\t'frequency_id': 6, \n",
        "\t'unit_id': 36, \n",
        "}\n",
        "\n",
        "\n",
        "santa_fe_series_list = [\n",
        "               santa_fe_soil_moisture,\n",
        "               santa_fe_rainfall,\n",
        "               santa_fe_temperature\n",
        "               ]\n"
      ],
      "execution_count": 14,
      "outputs": []
    },
    {
      "cell_type": "markdown",
      "metadata": {
        "id": "LAdLL8nYGi5w"
      },
      "source": [
        "3. Buenos Aires"
      ]
    },
    {
      "cell_type": "code",
      "metadata": {
        "id": "Y1i6-CplGglo"
      },
      "source": [
        "# Soil moisture on cropland - Availability in soil (volume/volume) - \n",
        "# Buenos Aires (Gro Derived Geospatial)\n",
        "buenos_aires_soil_moisture = {'metric_id': 15531082, \n",
        "\t'item_id': 8938,\n",
        "\t'region_id': 10136,\n",
        "\t'partner_region_id': 0, \n",
        "\t'source_id': 82, \n",
        "\t'frequency_id': 1}\n",
        "\n",
        "# Rainfall - Precipitation Quantity - Buenos Aires (NASA GPM 3IMERGDL)\n",
        "buenos_aires_rainfall = {\n",
        "\t'metric_id': 2100031, \n",
        "\t'item_id': 2039, \n",
        "\t'region_id': 10136, \n",
        "\t'partner_region_id': 0, \n",
        "\t'source_id': 126, \n",
        "\t'frequency_id': 6, \n",
        "\t'unit_id': 2, \n",
        "}\n",
        "\n",
        "# Land temperature (daytime) - Temperature - Buenos Aires\n",
        "# (NASA MODIS MOD11 LST)\n",
        "buenos_aires_temperature = {\n",
        "\t'metric_id': 2540047, \n",
        "\t'item_id': 3457, \n",
        "\t'region_id': 10136, \n",
        "\t'partner_region_id': 0, \n",
        "\t'source_id': 26, \n",
        "\t'frequency_id': 6, \n",
        "\t'unit_id': 36, \n",
        "}\n",
        "\n",
        "\n",
        "buenos_aires_series_list = [\n",
        "               buenos_aires_soil_moisture,\n",
        "               buenos_aires_rainfall,\n",
        "               buenos_aires_temperature\n",
        "               ]\n"
      ],
      "execution_count": 15,
      "outputs": []
    },
    {
      "cell_type": "markdown",
      "metadata": {
        "id": "fwU4z4GJIP37"
      },
      "source": [
        "\n",
        "## Dates for Argentina\n",
        "\n",
        "\n"
      ]
    },
    {
      "cell_type": "code",
      "metadata": {
        "id": "WAT_0u3gF9qX"
      },
      "source": [
        "initial_date_argentina = '2020-06-01'\n",
        "final_date_argentina = '2020-11-02'"
      ],
      "execution_count": 16,
      "outputs": []
    },
    {
      "cell_type": "markdown",
      "metadata": {
        "id": "rKNshY1uIqY_"
      },
      "source": [
        "## 3B. Vanilla Analogous Years Rank Argentina\n",
        "The output will be a pandas dataframe containg the ranks computed by ensembling several distance calculation methods."
      ]
    },
    {
      "cell_type": "markdown",
      "metadata": {
        "id": "uDqLi7E4It2-"
      },
      "source": [
        "Cordoba"
      ]
    },
    {
      "cell_type": "code",
      "metadata": {
        "id": "4cYMMSI1F9jU",
        "outputId": "dfce1c68-b716-43b6-9f4e-ac664e513cdb",
        "colab": {
          "base_uri": "https://localhost:8080/",
          "height": 495
        }
      },
      "source": [
        "result_cordoba = final_ranks_computation.analogous_years(\n",
        "    GROAPI_TOKEN, cordoba_series_list, initial_date_argentina, final_date_argentina, enso=True, all_ranks=True)\n",
        "result_cordoba"
      ],
      "execution_count": 17,
      "outputs": [
        {
          "output_type": "stream",
          "text": [
            "Feature Extraction: 100%|██████████| 11/11 [00:01<00:00,  9.66it/s]\n",
            "Feature Extraction: 100%|██████████| 11/11 [00:01<00:00,  9.65it/s]\n",
            "Feature Extraction: 100%|██████████| 11/11 [00:01<00:00,  9.75it/s]\n",
            "Feature Extraction: 100%|██████████| 11/11 [00:01<00:00,  9.62it/s]\n"
          ],
          "name": "stderr"
        },
        {
          "output_type": "execute_result",
          "data": {
            "text/html": [
              "<div>\n",
              "<style scoped>\n",
              "    .dataframe tbody tr th:only-of-type {\n",
              "        vertical-align: middle;\n",
              "    }\n",
              "\n",
              "    .dataframe tbody tr th {\n",
              "        vertical-align: top;\n",
              "    }\n",
              "\n",
              "    .dataframe thead th {\n",
              "        text-align: right;\n",
              "    }\n",
              "</style>\n",
              "<table border=\"1\" class=\"dataframe\">\n",
              "  <thead>\n",
              "    <tr style=\"text-align: right;\">\n",
              "      <th></th>\n",
              "      <th>cumulative_rank</th>\n",
              "      <th>euclidean_rank</th>\n",
              "      <th>ts-features_rank</th>\n",
              "      <th>composite_rank</th>\n",
              "    </tr>\n",
              "    <tr>\n",
              "      <th>period</th>\n",
              "      <th></th>\n",
              "      <th></th>\n",
              "      <th></th>\n",
              "      <th></th>\n",
              "    </tr>\n",
              "  </thead>\n",
              "  <tbody>\n",
              "    <tr>\n",
              "      <th>2010-06-01 to 2010-11-02</th>\n",
              "      <td>4</td>\n",
              "      <td>5</td>\n",
              "      <td>5</td>\n",
              "      <td>5</td>\n",
              "    </tr>\n",
              "    <tr>\n",
              "      <th>2011-06-01 to 2011-11-02</th>\n",
              "      <td>2</td>\n",
              "      <td>2</td>\n",
              "      <td>2</td>\n",
              "      <td>2</td>\n",
              "    </tr>\n",
              "    <tr>\n",
              "      <th>2012-06-01 to 2012-11-02</th>\n",
              "      <td>9</td>\n",
              "      <td>9</td>\n",
              "      <td>9</td>\n",
              "      <td>9</td>\n",
              "    </tr>\n",
              "    <tr>\n",
              "      <th>2013-06-01 to 2013-11-02</th>\n",
              "      <td>3</td>\n",
              "      <td>3</td>\n",
              "      <td>3</td>\n",
              "      <td>3</td>\n",
              "    </tr>\n",
              "    <tr>\n",
              "      <th>2014-06-01 to 2014-11-02</th>\n",
              "      <td>7</td>\n",
              "      <td>7</td>\n",
              "      <td>7</td>\n",
              "      <td>7</td>\n",
              "    </tr>\n",
              "    <tr>\n",
              "      <th>2015-06-01 to 2015-11-02</th>\n",
              "      <td>8</td>\n",
              "      <td>8</td>\n",
              "      <td>6</td>\n",
              "      <td>8</td>\n",
              "    </tr>\n",
              "    <tr>\n",
              "      <th>2016-06-01 to 2016-11-02</th>\n",
              "      <td>10</td>\n",
              "      <td>10</td>\n",
              "      <td>11</td>\n",
              "      <td>10</td>\n",
              "    </tr>\n",
              "    <tr>\n",
              "      <th>2017-06-01 to 2017-11-02</th>\n",
              "      <td>11</td>\n",
              "      <td>11</td>\n",
              "      <td>10</td>\n",
              "      <td>11</td>\n",
              "    </tr>\n",
              "    <tr>\n",
              "      <th>2018-06-01 to 2018-11-02</th>\n",
              "      <td>5</td>\n",
              "      <td>4</td>\n",
              "      <td>4</td>\n",
              "      <td>4</td>\n",
              "    </tr>\n",
              "    <tr>\n",
              "      <th>2019-06-01 to 2019-11-02</th>\n",
              "      <td>6</td>\n",
              "      <td>6</td>\n",
              "      <td>8</td>\n",
              "      <td>6</td>\n",
              "    </tr>\n",
              "    <tr>\n",
              "      <th>2020-06-01 to 2020-11-02</th>\n",
              "      <td>1</td>\n",
              "      <td>1</td>\n",
              "      <td>1</td>\n",
              "      <td>1</td>\n",
              "    </tr>\n",
              "  </tbody>\n",
              "</table>\n",
              "</div>"
            ],
            "text/plain": [
              "                          cumulative_rank  ...  composite_rank\n",
              "period                                     ...                \n",
              "2010-06-01 to 2010-11-02                4  ...               5\n",
              "2011-06-01 to 2011-11-02                2  ...               2\n",
              "2012-06-01 to 2012-11-02                9  ...               9\n",
              "2013-06-01 to 2013-11-02                3  ...               3\n",
              "2014-06-01 to 2014-11-02                7  ...               7\n",
              "2015-06-01 to 2015-11-02                8  ...               8\n",
              "2016-06-01 to 2016-11-02               10  ...              10\n",
              "2017-06-01 to 2017-11-02               11  ...              11\n",
              "2018-06-01 to 2018-11-02                5  ...               4\n",
              "2019-06-01 to 2019-11-02                6  ...               6\n",
              "2020-06-01 to 2020-11-02                1  ...               1\n",
              "\n",
              "[11 rows x 4 columns]"
            ]
          },
          "metadata": {
            "tags": []
          },
          "execution_count": 17
        }
      ]
    },
    {
      "cell_type": "markdown",
      "metadata": {
        "id": "5tLPVprMJBlf"
      },
      "source": [
        "Santa Fe"
      ]
    },
    {
      "cell_type": "code",
      "metadata": {
        "id": "nL9GTRDBF9Sy",
        "outputId": "3e35a4a5-0542-4f99-d083-38573550a45f",
        "colab": {
          "base_uri": "https://localhost:8080/",
          "height": 495
        }
      },
      "source": [
        "result_santa_fe = final_ranks_computation.analogous_years(\n",
        "    GROAPI_TOKEN, santa_fe_series_list, initial_date_argentina, final_date_argentina, enso=True, all_ranks=True)\n",
        "result_santa_fe"
      ],
      "execution_count": 18,
      "outputs": [
        {
          "output_type": "stream",
          "text": [
            "Feature Extraction: 100%|██████████| 11/11 [00:01<00:00,  9.51it/s]\n",
            "Feature Extraction: 100%|██████████| 11/11 [00:01<00:00,  9.90it/s]\n",
            "Feature Extraction: 100%|██████████| 11/11 [00:01<00:00,  9.76it/s]\n",
            "Feature Extraction: 100%|██████████| 11/11 [00:01<00:00,  9.83it/s]\n"
          ],
          "name": "stderr"
        },
        {
          "output_type": "execute_result",
          "data": {
            "text/html": [
              "<div>\n",
              "<style scoped>\n",
              "    .dataframe tbody tr th:only-of-type {\n",
              "        vertical-align: middle;\n",
              "    }\n",
              "\n",
              "    .dataframe tbody tr th {\n",
              "        vertical-align: top;\n",
              "    }\n",
              "\n",
              "    .dataframe thead th {\n",
              "        text-align: right;\n",
              "    }\n",
              "</style>\n",
              "<table border=\"1\" class=\"dataframe\">\n",
              "  <thead>\n",
              "    <tr style=\"text-align: right;\">\n",
              "      <th></th>\n",
              "      <th>cumulative_rank</th>\n",
              "      <th>euclidean_rank</th>\n",
              "      <th>ts-features_rank</th>\n",
              "      <th>composite_rank</th>\n",
              "    </tr>\n",
              "    <tr>\n",
              "      <th>period</th>\n",
              "      <th></th>\n",
              "      <th></th>\n",
              "      <th></th>\n",
              "      <th></th>\n",
              "    </tr>\n",
              "  </thead>\n",
              "  <tbody>\n",
              "    <tr>\n",
              "      <th>2010-06-01 to 2010-11-02</th>\n",
              "      <td>9</td>\n",
              "      <td>3</td>\n",
              "      <td>6</td>\n",
              "      <td>7</td>\n",
              "    </tr>\n",
              "    <tr>\n",
              "      <th>2011-06-01 to 2011-11-02</th>\n",
              "      <td>3</td>\n",
              "      <td>5</td>\n",
              "      <td>3</td>\n",
              "      <td>4</td>\n",
              "    </tr>\n",
              "    <tr>\n",
              "      <th>2012-06-01 to 2012-11-02</th>\n",
              "      <td>6</td>\n",
              "      <td>9</td>\n",
              "      <td>11</td>\n",
              "      <td>8</td>\n",
              "    </tr>\n",
              "    <tr>\n",
              "      <th>2013-06-01 to 2013-11-02</th>\n",
              "      <td>8</td>\n",
              "      <td>6</td>\n",
              "      <td>4</td>\n",
              "      <td>6</td>\n",
              "    </tr>\n",
              "    <tr>\n",
              "      <th>2014-06-01 to 2014-11-02</th>\n",
              "      <td>4</td>\n",
              "      <td>7</td>\n",
              "      <td>7</td>\n",
              "      <td>5</td>\n",
              "    </tr>\n",
              "    <tr>\n",
              "      <th>2015-06-01 to 2015-11-02</th>\n",
              "      <td>10</td>\n",
              "      <td>11</td>\n",
              "      <td>8</td>\n",
              "      <td>9</td>\n",
              "    </tr>\n",
              "    <tr>\n",
              "      <th>2016-06-01 to 2016-11-02</th>\n",
              "      <td>7</td>\n",
              "      <td>10</td>\n",
              "      <td>10</td>\n",
              "      <td>10</td>\n",
              "    </tr>\n",
              "    <tr>\n",
              "      <th>2017-06-01 to 2017-11-02</th>\n",
              "      <td>11</td>\n",
              "      <td>8</td>\n",
              "      <td>9</td>\n",
              "      <td>11</td>\n",
              "    </tr>\n",
              "    <tr>\n",
              "      <th>2018-06-01 to 2018-11-02</th>\n",
              "      <td>2</td>\n",
              "      <td>2</td>\n",
              "      <td>5</td>\n",
              "      <td>2</td>\n",
              "    </tr>\n",
              "    <tr>\n",
              "      <th>2019-06-01 to 2019-11-02</th>\n",
              "      <td>5</td>\n",
              "      <td>4</td>\n",
              "      <td>2</td>\n",
              "      <td>3</td>\n",
              "    </tr>\n",
              "    <tr>\n",
              "      <th>2020-06-01 to 2020-11-02</th>\n",
              "      <td>1</td>\n",
              "      <td>1</td>\n",
              "      <td>1</td>\n",
              "      <td>1</td>\n",
              "    </tr>\n",
              "  </tbody>\n",
              "</table>\n",
              "</div>"
            ],
            "text/plain": [
              "                          cumulative_rank  ...  composite_rank\n",
              "period                                     ...                \n",
              "2010-06-01 to 2010-11-02                9  ...               7\n",
              "2011-06-01 to 2011-11-02                3  ...               4\n",
              "2012-06-01 to 2012-11-02                6  ...               8\n",
              "2013-06-01 to 2013-11-02                8  ...               6\n",
              "2014-06-01 to 2014-11-02                4  ...               5\n",
              "2015-06-01 to 2015-11-02               10  ...               9\n",
              "2016-06-01 to 2016-11-02                7  ...              10\n",
              "2017-06-01 to 2017-11-02               11  ...              11\n",
              "2018-06-01 to 2018-11-02                2  ...               2\n",
              "2019-06-01 to 2019-11-02                5  ...               3\n",
              "2020-06-01 to 2020-11-02                1  ...               1\n",
              "\n",
              "[11 rows x 4 columns]"
            ]
          },
          "metadata": {
            "tags": []
          },
          "execution_count": 18
        }
      ]
    },
    {
      "cell_type": "markdown",
      "metadata": {
        "id": "cFfcM0-KJcEn"
      },
      "source": [
        "Buenos Aires"
      ]
    },
    {
      "cell_type": "code",
      "metadata": {
        "id": "7WcE7GpCJf_U",
        "outputId": "603acaaf-87e6-42bb-d063-dfbbad2c7fe6",
        "colab": {
          "base_uri": "https://localhost:8080/",
          "height": 495
        }
      },
      "source": [
        "result_buenos_aires = final_ranks_computation.analogous_years(\n",
        "    GROAPI_TOKEN, buenos_aires_series_list, initial_date_argentina, final_date_argentina, enso=True, all_ranks=True)\n",
        "result_buenos_aires"
      ],
      "execution_count": 19,
      "outputs": [
        {
          "output_type": "stream",
          "text": [
            "Feature Extraction: 100%|██████████| 11/11 [00:01<00:00,  9.93it/s]\n",
            "Feature Extraction: 100%|██████████| 11/11 [00:01<00:00,  9.99it/s]\n",
            "Feature Extraction: 100%|██████████| 11/11 [00:01<00:00,  9.35it/s]\n",
            "Feature Extraction: 100%|██████████| 11/11 [00:01<00:00,  9.74it/s]\n"
          ],
          "name": "stderr"
        },
        {
          "output_type": "execute_result",
          "data": {
            "text/html": [
              "<div>\n",
              "<style scoped>\n",
              "    .dataframe tbody tr th:only-of-type {\n",
              "        vertical-align: middle;\n",
              "    }\n",
              "\n",
              "    .dataframe tbody tr th {\n",
              "        vertical-align: top;\n",
              "    }\n",
              "\n",
              "    .dataframe thead th {\n",
              "        text-align: right;\n",
              "    }\n",
              "</style>\n",
              "<table border=\"1\" class=\"dataframe\">\n",
              "  <thead>\n",
              "    <tr style=\"text-align: right;\">\n",
              "      <th></th>\n",
              "      <th>cumulative_rank</th>\n",
              "      <th>euclidean_rank</th>\n",
              "      <th>ts-features_rank</th>\n",
              "      <th>composite_rank</th>\n",
              "    </tr>\n",
              "    <tr>\n",
              "      <th>period</th>\n",
              "      <th></th>\n",
              "      <th></th>\n",
              "      <th></th>\n",
              "      <th></th>\n",
              "    </tr>\n",
              "  </thead>\n",
              "  <tbody>\n",
              "    <tr>\n",
              "      <th>2010-06-01 to 2010-11-02</th>\n",
              "      <td>5</td>\n",
              "      <td>4</td>\n",
              "      <td>3</td>\n",
              "      <td>3</td>\n",
              "    </tr>\n",
              "    <tr>\n",
              "      <th>2011-06-01 to 2011-11-02</th>\n",
              "      <td>9</td>\n",
              "      <td>6</td>\n",
              "      <td>6</td>\n",
              "      <td>7</td>\n",
              "    </tr>\n",
              "    <tr>\n",
              "      <th>2012-06-01 to 2012-11-02</th>\n",
              "      <td>7</td>\n",
              "      <td>8</td>\n",
              "      <td>9</td>\n",
              "      <td>8</td>\n",
              "    </tr>\n",
              "    <tr>\n",
              "      <th>2013-06-01 to 2013-11-02</th>\n",
              "      <td>6</td>\n",
              "      <td>5</td>\n",
              "      <td>5</td>\n",
              "      <td>5</td>\n",
              "    </tr>\n",
              "    <tr>\n",
              "      <th>2014-06-01 to 2014-11-02</th>\n",
              "      <td>11</td>\n",
              "      <td>11</td>\n",
              "      <td>10</td>\n",
              "      <td>11</td>\n",
              "    </tr>\n",
              "    <tr>\n",
              "      <th>2015-06-01 to 2015-11-02</th>\n",
              "      <td>8</td>\n",
              "      <td>10</td>\n",
              "      <td>8</td>\n",
              "      <td>9</td>\n",
              "    </tr>\n",
              "    <tr>\n",
              "      <th>2016-06-01 to 2016-11-02</th>\n",
              "      <td>4</td>\n",
              "      <td>3</td>\n",
              "      <td>4</td>\n",
              "      <td>4</td>\n",
              "    </tr>\n",
              "    <tr>\n",
              "      <th>2017-06-01 to 2017-11-02</th>\n",
              "      <td>10</td>\n",
              "      <td>9</td>\n",
              "      <td>11</td>\n",
              "      <td>10</td>\n",
              "    </tr>\n",
              "    <tr>\n",
              "      <th>2018-06-01 to 2018-11-02</th>\n",
              "      <td>3</td>\n",
              "      <td>7</td>\n",
              "      <td>7</td>\n",
              "      <td>6</td>\n",
              "    </tr>\n",
              "    <tr>\n",
              "      <th>2019-06-01 to 2019-11-02</th>\n",
              "      <td>2</td>\n",
              "      <td>2</td>\n",
              "      <td>2</td>\n",
              "      <td>2</td>\n",
              "    </tr>\n",
              "    <tr>\n",
              "      <th>2020-06-01 to 2020-11-02</th>\n",
              "      <td>1</td>\n",
              "      <td>1</td>\n",
              "      <td>1</td>\n",
              "      <td>1</td>\n",
              "    </tr>\n",
              "  </tbody>\n",
              "</table>\n",
              "</div>"
            ],
            "text/plain": [
              "                          cumulative_rank  ...  composite_rank\n",
              "period                                     ...                \n",
              "2010-06-01 to 2010-11-02                5  ...               3\n",
              "2011-06-01 to 2011-11-02                9  ...               7\n",
              "2012-06-01 to 2012-11-02                7  ...               8\n",
              "2013-06-01 to 2013-11-02                6  ...               5\n",
              "2014-06-01 to 2014-11-02               11  ...              11\n",
              "2015-06-01 to 2015-11-02                8  ...               9\n",
              "2016-06-01 to 2016-11-02                4  ...               4\n",
              "2017-06-01 to 2017-11-02               10  ...              10\n",
              "2018-06-01 to 2018-11-02                3  ...               6\n",
              "2019-06-01 to 2019-11-02                2  ...               2\n",
              "2020-06-01 to 2020-11-02                1  ...               1\n",
              "\n",
              "[11 rows x 4 columns]"
            ]
          },
          "metadata": {
            "tags": []
          },
          "execution_count": 19
        }
      ]
    },
    {
      "cell_type": "code",
      "metadata": {
        "id": "HIBkAvg0VGNG"
      },
      "source": [
        ""
      ],
      "execution_count": 19,
      "outputs": []
    }
  ]
}