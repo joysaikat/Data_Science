{
  "nbformat": 4,
  "nbformat_minor": 0,
  "metadata": {
    "colab": {
      "name": "analogous_years_enso_soil_moisture.ipynb",
      "provenance": [],
      "authorship_tag": "ABX9TyOyn9UKv45UEsBQdn+w4i/Q",
      "include_colab_link": true
    },
    "kernelspec": {
      "name": "python3",
      "display_name": "Python 3"
    }
  },
  "cells": [
    {
      "cell_type": "markdown",
      "metadata": {
        "id": "view-in-github",
        "colab_type": "text"
      },
      "source": [
        "<a href=\"https://colab.research.google.com/github/joysaikat/Data_Science/blob/master/analogous_years_enso_soil_moisture_argentina_brazil.ipynb\" target=\"_parent\"><img src=\"https://colab.research.google.com/assets/colab-badge.svg\" alt=\"Open In Colab\"/></a>"
      ]
    },
    {
      "cell_type": "markdown",
      "metadata": {
        "id": "391y4dytcuOc"
      },
      "source": [
        "# Analgous Years with respect to Soil Moisture and MEI\n",
        "The Analogous Years application enables users to compare events from a set period of time, to those of the same date range in other years. The application will compute ranks of similarity between the specified period, and the same period from previous or future years.\n",
        "\n",
        "In this notebook we will compute the analogous years for some of the key provinces of Argentina and Brazil with respect to `Soil Moisture` and `Multivariate El Nino Southern Oscillation` over the last 6 months."
      ]
    },
    {
      "cell_type": "markdown",
      "metadata": {
        "id": "n58oqv5FdCNK"
      },
      "source": [
        "# -1. Optional Cell To Add Gro-access-token (Read before running)\n",
        "You should run the following cell (after appropriately modifying) ONLY if you have saved the `GROAPI_TOKEN` in their google drive. You will have the option to manually add the access token, later."
      ]
    },
    {
      "cell_type": "code",
      "metadata": {
        "id": "v_66GJgWWY72"
      },
      "source": [
        "from google.colab import drive\n",
        "drive.mount('/content/drive')\n",
        "!pip install ConfigParser #Package for parsing configuration file holding GROAPI_TOKEN\n",
        "import configparser\n",
        "config = configparser.RawConfigParser()\n",
        "config.read('/content/drive/My Drive/Colab Notebooks/Properties/gro.properties')#"
      ],
      "execution_count": null,
      "outputs": []
    },
    {
      "cell_type": "markdown",
      "metadata": {
        "id": "8VjY5x7Adkip"
      },
      "source": [
        "## 0. Install Gro API client and other Analogous Years packages.\n",
        "To get started with `Analogous Years`, you have to install `Gro API Client` and some of the necessary libraries (which do not come installed in Colab) for running the `analogous_years` package."
      ]
    },
    {
      "cell_type": "code",
      "metadata": {
        "id": "TwGoC7TImph0"
      },
      "source": [
        "!pip install groclient #Install Gro api client\n",
        "!pip install dtw # dynamic time warping package for running analogous_years\n",
        "!pip install tsfresh # time series feature extraction package for running analogous_years\n",
        "\n",
        "# from groclient import GroClient\n",
        "from api.client.samples.analogous_years.lib import final_ranks_computation\n",
        "import pandas as pd\n",
        "pd.options.mode.chained_assignment = None # This is to avoid seeing a lot of warnings from pandas"
      ],
      "execution_count": null,
      "outputs": []
    },
    {
      "cell_type": "markdown",
      "metadata": {
        "id": "Iy6kc5kDeRz_"
      },
      "source": [
        "## 1. Fill in the API access token (User input required)\n",
        "\n",
        "You have to fill in the variable `GROAPI_TOKEN` below, with your personal access token (assuming you have not done so in the first cell)."
      ]
    },
    {
      "cell_type": "code",
      "metadata": {
        "id": "KsMdexBEqQka"
      },
      "source": [
        "GROAPI_TOKEN = None\n",
        "if not GROAPI_TOKEN:\n",
        "  GROAPI_TOKEN = config['DEFAULT']['GROAPI_TOKEN']"
      ],
      "execution_count": 3,
      "outputs": []
    },
    {
      "cell_type": "markdown",
      "metadata": {
        "id": "CO_mP2NgRUy6"
      },
      "source": [
        "# 2. Adding data series and dates (User input required)\n",
        "## 9 Months"
      ]
    },
    {
      "cell_type": "code",
      "metadata": {
        "id": "Y6B4cm1URThg"
      },
      "source": [
        "initial_date_9 = '2020-02-01'\n",
        "final_date_9 = '2020-10-31'"
      ],
      "execution_count": 4,
      "outputs": []
    },
    {
      "cell_type": "markdown",
      "metadata": {
        "id": "vvpJcYG680E0"
      },
      "source": [
        "\n",
        "## 2A. Aregentina\n",
        "\n",
        "We are interested in 3 regions in Argentina\n",
        "\n",
        "1. Cordoba\n",
        "2. Santa \n",
        "3. Buenos Aires"
      ]
    },
    {
      "cell_type": "code",
      "metadata": {
        "id": "uEcK0KIv9M88"
      },
      "source": [
        "# Soil moisture on cropland - Availability in soil (volume/volume) - \n",
        "# Cordoba (Gro Derived Geospatial)\n",
        "cordoba_soil_moisture = {'metric_id': 15531082, \n",
        "\t'item_id': 8938,\n",
        "\t'region_id': 10141,\n",
        "\t'partner_region_id': 0, \n",
        "\t'source_id': 82, \n",
        "\t'frequency_id': 1}\n",
        "\n",
        "cordoba_series_list = [\n",
        "               cordoba_soil_moisture,\n",
        "               ]\n",
        "# Soil moisture on cropland - Availability in soil (volume/volume) - \n",
        "# Santa Fe (Gro Derived Geospatial)\n",
        "santa_fe_soil_moisture = {'metric_id': 15531082, \n",
        "\t'item_id': 8938,\n",
        "\t'region_id': 10156,\n",
        "\t'partner_region_id': 0, \n",
        "\t'source_id': 82, \n",
        "\t'frequency_id': 1}\n",
        "\n",
        "santa_fe_series_list = [\n",
        "               santa_fe_soil_moisture,\n",
        "]\n",
        "# Soil moisture on cropland - Availability in soil (volume/volume) - \n",
        "# Buenos Aires (Gro Derived Geospatial)\n",
        "buenos_aires_soil_moisture = {'metric_id': 15531082, \n",
        "\t'item_id': 8938,\n",
        "\t'region_id': 10136,\n",
        "\t'partner_region_id': 0, \n",
        "\t'source_id': 82, \n",
        "\t'frequency_id': 1}\n",
        "buenos_aires_series_list = [\n",
        "               buenos_aires_soil_moisture,\n",
        "]"
      ],
      "execution_count": 5,
      "outputs": []
    },
    {
      "cell_type": "markdown",
      "metadata": {
        "id": "RLeN6phm-8sh"
      },
      "source": [
        "## Cordoba"
      ]
    },
    {
      "cell_type": "code",
      "metadata": {
        "colab": {
          "base_uri": "https://localhost:8080/",
          "height": 461
        },
        "id": "SGKhT37J-9u9",
        "outputId": "a860a5de-39a6-426e-c9e1-8a23067bdc35"
      },
      "source": [
        "result_cordoba_9 = final_ranks_computation.analogous_years(\n",
        "    GROAPI_TOKEN, cordoba_series_list, initial_date_9, final_date_9, all_ranks=True, enso=True\n",
        "    # methods_list=['cumulative', 'euclidean', 'ts-features', 'dtw']\n",
        "    )\n",
        "result_cordoba_9"
      ],
      "execution_count": 6,
      "outputs": [
        {
          "output_type": "stream",
          "text": [
            "Feature Extraction: 100%|██████████| 11/11 [00:01<00:00,  6.54it/s]\n",
            "Feature Extraction: 100%|██████████| 11/11 [00:01<00:00,  6.52it/s]\n"
          ],
          "name": "stderr"
        },
        {
          "output_type": "execute_result",
          "data": {
            "text/html": [
              "<div>\n",
              "<style scoped>\n",
              "    .dataframe tbody tr th:only-of-type {\n",
              "        vertical-align: middle;\n",
              "    }\n",
              "\n",
              "    .dataframe tbody tr th {\n",
              "        vertical-align: top;\n",
              "    }\n",
              "\n",
              "    .dataframe thead th {\n",
              "        text-align: right;\n",
              "    }\n",
              "</style>\n",
              "<table border=\"1\" class=\"dataframe\">\n",
              "  <thead>\n",
              "    <tr style=\"text-align: right;\">\n",
              "      <th></th>\n",
              "      <th>cumulative_rank</th>\n",
              "      <th>euclidean_rank</th>\n",
              "      <th>ts-features_rank</th>\n",
              "      <th>composite_rank</th>\n",
              "    </tr>\n",
              "    <tr>\n",
              "      <th>period</th>\n",
              "      <th></th>\n",
              "      <th></th>\n",
              "      <th></th>\n",
              "      <th></th>\n",
              "    </tr>\n",
              "  </thead>\n",
              "  <tbody>\n",
              "    <tr>\n",
              "      <th>2010-02-01 to 2010-10-31</th>\n",
              "      <td>5</td>\n",
              "      <td>4</td>\n",
              "      <td>3</td>\n",
              "      <td>5</td>\n",
              "    </tr>\n",
              "    <tr>\n",
              "      <th>2011-02-01 to 2011-10-31</th>\n",
              "      <td>3</td>\n",
              "      <td>3</td>\n",
              "      <td>6</td>\n",
              "      <td>4</td>\n",
              "    </tr>\n",
              "    <tr>\n",
              "      <th>2012-02-01 to 2012-10-31</th>\n",
              "      <td>6</td>\n",
              "      <td>7</td>\n",
              "      <td>9</td>\n",
              "      <td>6</td>\n",
              "    </tr>\n",
              "    <tr>\n",
              "      <th>2013-02-01 to 2013-10-31</th>\n",
              "      <td>2</td>\n",
              "      <td>2</td>\n",
              "      <td>8</td>\n",
              "      <td>2</td>\n",
              "    </tr>\n",
              "    <tr>\n",
              "      <th>2014-02-01 to 2014-10-31</th>\n",
              "      <td>8</td>\n",
              "      <td>8</td>\n",
              "      <td>4</td>\n",
              "      <td>8</td>\n",
              "    </tr>\n",
              "    <tr>\n",
              "      <th>2015-02-01 to 2015-10-31</th>\n",
              "      <td>9</td>\n",
              "      <td>11</td>\n",
              "      <td>10</td>\n",
              "      <td>10</td>\n",
              "    </tr>\n",
              "    <tr>\n",
              "      <th>2016-02-01 to 2016-10-31</th>\n",
              "      <td>11</td>\n",
              "      <td>10</td>\n",
              "      <td>11</td>\n",
              "      <td>11</td>\n",
              "    </tr>\n",
              "    <tr>\n",
              "      <th>2017-02-01 to 2017-10-31</th>\n",
              "      <td>10</td>\n",
              "      <td>9</td>\n",
              "      <td>7</td>\n",
              "      <td>9</td>\n",
              "    </tr>\n",
              "    <tr>\n",
              "      <th>2018-02-01 to 2018-10-31</th>\n",
              "      <td>4</td>\n",
              "      <td>5</td>\n",
              "      <td>2</td>\n",
              "      <td>3</td>\n",
              "    </tr>\n",
              "    <tr>\n",
              "      <th>2019-02-01 to 2019-10-31</th>\n",
              "      <td>7</td>\n",
              "      <td>6</td>\n",
              "      <td>5</td>\n",
              "      <td>7</td>\n",
              "    </tr>\n",
              "    <tr>\n",
              "      <th>2020-02-01 to 2020-10-31</th>\n",
              "      <td>1</td>\n",
              "      <td>1</td>\n",
              "      <td>1</td>\n",
              "      <td>1</td>\n",
              "    </tr>\n",
              "  </tbody>\n",
              "</table>\n",
              "</div>"
            ],
            "text/plain": [
              "                          cumulative_rank  ...  composite_rank\n",
              "period                                     ...                \n",
              "2010-02-01 to 2010-10-31                5  ...               5\n",
              "2011-02-01 to 2011-10-31                3  ...               4\n",
              "2012-02-01 to 2012-10-31                6  ...               6\n",
              "2013-02-01 to 2013-10-31                2  ...               2\n",
              "2014-02-01 to 2014-10-31                8  ...               8\n",
              "2015-02-01 to 2015-10-31                9  ...              10\n",
              "2016-02-01 to 2016-10-31               11  ...              11\n",
              "2017-02-01 to 2017-10-31               10  ...               9\n",
              "2018-02-01 to 2018-10-31                4  ...               3\n",
              "2019-02-01 to 2019-10-31                7  ...               7\n",
              "2020-02-01 to 2020-10-31                1  ...               1\n",
              "\n",
              "[11 rows x 4 columns]"
            ]
          },
          "metadata": {
            "tags": []
          },
          "execution_count": 6
        }
      ]
    },
    {
      "cell_type": "markdown",
      "metadata": {
        "id": "SgQIMPn2-8d4"
      },
      "source": [
        "## Santa Fe"
      ]
    },
    {
      "cell_type": "code",
      "metadata": {
        "colab": {
          "base_uri": "https://localhost:8080/",
          "height": 461
        },
        "id": "lfCWK7ea--PV",
        "outputId": "fb531a18-e161-4eda-ac15-160d85cf560d"
      },
      "source": [
        "result_santa_fe_9 = final_ranks_computation.analogous_years(\n",
        "    GROAPI_TOKEN, santa_fe_series_list, initial_date_9, final_date_9, all_ranks=True, enso=True\n",
        "    # methods_list=['cumulative', 'euclidean', 'ts-features', 'dtw']\n",
        "    )\n",
        "result_santa_fe_9"
      ],
      "execution_count": 7,
      "outputs": [
        {
          "output_type": "stream",
          "text": [
            "Feature Extraction: 100%|██████████| 11/11 [00:01<00:00,  6.55it/s]\n",
            "Feature Extraction: 100%|██████████| 11/11 [00:01<00:00,  6.61it/s]\n"
          ],
          "name": "stderr"
        },
        {
          "output_type": "execute_result",
          "data": {
            "text/html": [
              "<div>\n",
              "<style scoped>\n",
              "    .dataframe tbody tr th:only-of-type {\n",
              "        vertical-align: middle;\n",
              "    }\n",
              "\n",
              "    .dataframe tbody tr th {\n",
              "        vertical-align: top;\n",
              "    }\n",
              "\n",
              "    .dataframe thead th {\n",
              "        text-align: right;\n",
              "    }\n",
              "</style>\n",
              "<table border=\"1\" class=\"dataframe\">\n",
              "  <thead>\n",
              "    <tr style=\"text-align: right;\">\n",
              "      <th></th>\n",
              "      <th>cumulative_rank</th>\n",
              "      <th>euclidean_rank</th>\n",
              "      <th>ts-features_rank</th>\n",
              "      <th>composite_rank</th>\n",
              "    </tr>\n",
              "    <tr>\n",
              "      <th>period</th>\n",
              "      <th></th>\n",
              "      <th></th>\n",
              "      <th></th>\n",
              "      <th></th>\n",
              "    </tr>\n",
              "  </thead>\n",
              "  <tbody>\n",
              "    <tr>\n",
              "      <th>2010-02-01 to 2010-10-31</th>\n",
              "      <td>5</td>\n",
              "      <td>3</td>\n",
              "      <td>8</td>\n",
              "      <td>5</td>\n",
              "    </tr>\n",
              "    <tr>\n",
              "      <th>2011-02-01 to 2011-10-31</th>\n",
              "      <td>4</td>\n",
              "      <td>4</td>\n",
              "      <td>7</td>\n",
              "      <td>4</td>\n",
              "    </tr>\n",
              "    <tr>\n",
              "      <th>2012-02-01 to 2012-10-31</th>\n",
              "      <td>6</td>\n",
              "      <td>8</td>\n",
              "      <td>9</td>\n",
              "      <td>6</td>\n",
              "    </tr>\n",
              "    <tr>\n",
              "      <th>2013-02-01 to 2013-10-31</th>\n",
              "      <td>2</td>\n",
              "      <td>2</td>\n",
              "      <td>2</td>\n",
              "      <td>2</td>\n",
              "    </tr>\n",
              "    <tr>\n",
              "      <th>2014-02-01 to 2014-10-31</th>\n",
              "      <td>8</td>\n",
              "      <td>6</td>\n",
              "      <td>5</td>\n",
              "      <td>8</td>\n",
              "    </tr>\n",
              "    <tr>\n",
              "      <th>2015-02-01 to 2015-10-31</th>\n",
              "      <td>9</td>\n",
              "      <td>11</td>\n",
              "      <td>10</td>\n",
              "      <td>10</td>\n",
              "    </tr>\n",
              "    <tr>\n",
              "      <th>2016-02-01 to 2016-10-31</th>\n",
              "      <td>11</td>\n",
              "      <td>10</td>\n",
              "      <td>11</td>\n",
              "      <td>11</td>\n",
              "    </tr>\n",
              "    <tr>\n",
              "      <th>2017-02-01 to 2017-10-31</th>\n",
              "      <td>10</td>\n",
              "      <td>9</td>\n",
              "      <td>6</td>\n",
              "      <td>9</td>\n",
              "    </tr>\n",
              "    <tr>\n",
              "      <th>2018-02-01 to 2018-10-31</th>\n",
              "      <td>3</td>\n",
              "      <td>5</td>\n",
              "      <td>3</td>\n",
              "      <td>3</td>\n",
              "    </tr>\n",
              "    <tr>\n",
              "      <th>2019-02-01 to 2019-10-31</th>\n",
              "      <td>7</td>\n",
              "      <td>7</td>\n",
              "      <td>4</td>\n",
              "      <td>7</td>\n",
              "    </tr>\n",
              "    <tr>\n",
              "      <th>2020-02-01 to 2020-10-31</th>\n",
              "      <td>1</td>\n",
              "      <td>1</td>\n",
              "      <td>1</td>\n",
              "      <td>1</td>\n",
              "    </tr>\n",
              "  </tbody>\n",
              "</table>\n",
              "</div>"
            ],
            "text/plain": [
              "                          cumulative_rank  ...  composite_rank\n",
              "period                                     ...                \n",
              "2010-02-01 to 2010-10-31                5  ...               5\n",
              "2011-02-01 to 2011-10-31                4  ...               4\n",
              "2012-02-01 to 2012-10-31                6  ...               6\n",
              "2013-02-01 to 2013-10-31                2  ...               2\n",
              "2014-02-01 to 2014-10-31                8  ...               8\n",
              "2015-02-01 to 2015-10-31                9  ...              10\n",
              "2016-02-01 to 2016-10-31               11  ...              11\n",
              "2017-02-01 to 2017-10-31               10  ...               9\n",
              "2018-02-01 to 2018-10-31                3  ...               3\n",
              "2019-02-01 to 2019-10-31                7  ...               7\n",
              "2020-02-01 to 2020-10-31                1  ...               1\n",
              "\n",
              "[11 rows x 4 columns]"
            ]
          },
          "metadata": {
            "tags": []
          },
          "execution_count": 7
        }
      ]
    },
    {
      "cell_type": "markdown",
      "metadata": {
        "id": "s54mtcKu-8N5"
      },
      "source": [
        "\n",
        "## Buenos Aires\n",
        "\n"
      ]
    },
    {
      "cell_type": "code",
      "metadata": {
        "colab": {
          "base_uri": "https://localhost:8080/",
          "height": 461
        },
        "id": "Ri6IamNF-_SA",
        "outputId": "b1973887-db2a-40af-b612-f274a776842f"
      },
      "source": [
        "result_buenos_aires_9 = final_ranks_computation.analogous_years(\n",
        "    GROAPI_TOKEN, buenos_aires_series_list, initial_date_9, final_date_9, all_ranks=True, enso=True\n",
        "    # methods_list=['cumulative', 'euclidean', 'ts-features', 'dtw']\n",
        "    )\n",
        "result_buenos_aires_9"
      ],
      "execution_count": 8,
      "outputs": [
        {
          "output_type": "stream",
          "text": [
            "Feature Extraction: 100%|██████████| 11/11 [00:01<00:00,  6.51it/s]\n",
            "Feature Extraction: 100%|██████████| 11/11 [00:01<00:00,  6.51it/s]\n"
          ],
          "name": "stderr"
        },
        {
          "output_type": "execute_result",
          "data": {
            "text/html": [
              "<div>\n",
              "<style scoped>\n",
              "    .dataframe tbody tr th:only-of-type {\n",
              "        vertical-align: middle;\n",
              "    }\n",
              "\n",
              "    .dataframe tbody tr th {\n",
              "        vertical-align: top;\n",
              "    }\n",
              "\n",
              "    .dataframe thead th {\n",
              "        text-align: right;\n",
              "    }\n",
              "</style>\n",
              "<table border=\"1\" class=\"dataframe\">\n",
              "  <thead>\n",
              "    <tr style=\"text-align: right;\">\n",
              "      <th></th>\n",
              "      <th>cumulative_rank</th>\n",
              "      <th>euclidean_rank</th>\n",
              "      <th>ts-features_rank</th>\n",
              "      <th>composite_rank</th>\n",
              "    </tr>\n",
              "    <tr>\n",
              "      <th>period</th>\n",
              "      <th></th>\n",
              "      <th></th>\n",
              "      <th></th>\n",
              "      <th></th>\n",
              "    </tr>\n",
              "  </thead>\n",
              "  <tbody>\n",
              "    <tr>\n",
              "      <th>2010-02-01 to 2010-10-31</th>\n",
              "      <td>2</td>\n",
              "      <td>5</td>\n",
              "      <td>8</td>\n",
              "      <td>5</td>\n",
              "    </tr>\n",
              "    <tr>\n",
              "      <th>2011-02-01 to 2011-10-31</th>\n",
              "      <td>9</td>\n",
              "      <td>7</td>\n",
              "      <td>10</td>\n",
              "      <td>8</td>\n",
              "    </tr>\n",
              "    <tr>\n",
              "      <th>2012-02-01 to 2012-10-31</th>\n",
              "      <td>6</td>\n",
              "      <td>8</td>\n",
              "      <td>9</td>\n",
              "      <td>7</td>\n",
              "    </tr>\n",
              "    <tr>\n",
              "      <th>2013-02-01 to 2013-10-31</th>\n",
              "      <td>4</td>\n",
              "      <td>2</td>\n",
              "      <td>2</td>\n",
              "      <td>2</td>\n",
              "    </tr>\n",
              "    <tr>\n",
              "      <th>2014-02-01 to 2014-10-31</th>\n",
              "      <td>10</td>\n",
              "      <td>9</td>\n",
              "      <td>6</td>\n",
              "      <td>10</td>\n",
              "    </tr>\n",
              "    <tr>\n",
              "      <th>2015-02-01 to 2015-10-31</th>\n",
              "      <td>8</td>\n",
              "      <td>11</td>\n",
              "      <td>11</td>\n",
              "      <td>9</td>\n",
              "    </tr>\n",
              "    <tr>\n",
              "      <th>2016-02-01 to 2016-10-31</th>\n",
              "      <td>7</td>\n",
              "      <td>4</td>\n",
              "      <td>7</td>\n",
              "      <td>6</td>\n",
              "    </tr>\n",
              "    <tr>\n",
              "      <th>2017-02-01 to 2017-10-31</th>\n",
              "      <td>11</td>\n",
              "      <td>10</td>\n",
              "      <td>5</td>\n",
              "      <td>11</td>\n",
              "    </tr>\n",
              "    <tr>\n",
              "      <th>2018-02-01 to 2018-10-31</th>\n",
              "      <td>3</td>\n",
              "      <td>6</td>\n",
              "      <td>4</td>\n",
              "      <td>4</td>\n",
              "    </tr>\n",
              "    <tr>\n",
              "      <th>2019-02-01 to 2019-10-31</th>\n",
              "      <td>5</td>\n",
              "      <td>3</td>\n",
              "      <td>3</td>\n",
              "      <td>3</td>\n",
              "    </tr>\n",
              "    <tr>\n",
              "      <th>2020-02-01 to 2020-10-31</th>\n",
              "      <td>1</td>\n",
              "      <td>1</td>\n",
              "      <td>1</td>\n",
              "      <td>1</td>\n",
              "    </tr>\n",
              "  </tbody>\n",
              "</table>\n",
              "</div>"
            ],
            "text/plain": [
              "                          cumulative_rank  ...  composite_rank\n",
              "period                                     ...                \n",
              "2010-02-01 to 2010-10-31                2  ...               5\n",
              "2011-02-01 to 2011-10-31                9  ...               8\n",
              "2012-02-01 to 2012-10-31                6  ...               7\n",
              "2013-02-01 to 2013-10-31                4  ...               2\n",
              "2014-02-01 to 2014-10-31               10  ...              10\n",
              "2015-02-01 to 2015-10-31                8  ...               9\n",
              "2016-02-01 to 2016-10-31                7  ...               6\n",
              "2017-02-01 to 2017-10-31               11  ...              11\n",
              "2018-02-01 to 2018-10-31                3  ...               4\n",
              "2019-02-01 to 2019-10-31                5  ...               3\n",
              "2020-02-01 to 2020-10-31                1  ...               1\n",
              "\n",
              "[11 rows x 4 columns]"
            ]
          },
          "metadata": {
            "tags": []
          },
          "execution_count": 8
        }
      ]
    },
    {
      "cell_type": "markdown",
      "metadata": {
        "id": "vhr3odKuQgTL"
      },
      "source": [
        "\n",
        "#2B. Brazil\n",
        "\n",
        "We are interested in 4 regions in Brazil\n",
        "\n",
        "1. Mato Grosso\n",
        "2. Mato Grosso do Sul\n",
        "3. Parana\n",
        "4. Rio Grande do Sul"
      ]
    },
    {
      "cell_type": "code",
      "metadata": {
        "id": "HIBkAvg0VGNG"
      },
      "source": [
        "# Soil moisture on cropland - Availability in soil (volume/volume) - \n",
        "# Mato Grosso (Gro Derived Geospatial)\n",
        "mato_grosso_soil_moisture = {'metric_id': 15531082, \n",
        "\t'item_id': 8938,\n",
        "\t'region_id': [10418, 10417, 10406, 10424],\n",
        "\t'partner_region_id': 0, \n",
        "\t'source_id': 82, \n",
        "\t'frequency_id': 1}\n",
        "\n",
        "mato_grosso_series_list = [\n",
        "               mato_grosso_soil_moisture,\n",
        "               ]\n",
        "\n",
        "# Soil moisture on cropland - Availability in soil (volume/volume) - \n",
        "# Mato Grosso do Sul (Gro Derived Geospatial)\n",
        "mato_grosso_do_sul_soil_moisture = {'metric_id': 15531082, \n",
        "\t'item_id': 8938,\n",
        "\t'region_id': 10417,\n",
        "\t'partner_region_id': 0, \n",
        "\t'source_id': 82, \n",
        "\t'frequency_id': 1}\n",
        "\n",
        "\n",
        "mato_grosso_do_sul_series_list = [\n",
        "               mato_grosso_do_sul_soil_moisture,\n",
        "               ]\n",
        "\n",
        "# Soil moisture on cropland - Availability in soil (volume/volume) - \n",
        "# Parana (Gro Derived Geospatial)\n",
        "parana_soil_moisture = {'metric_id': 15531082, \n",
        "\t'item_id': 8938,\n",
        "\t'region_id': 10406,\n",
        "\t'partner_region_id': 0, \n",
        "\t'source_id': 82, \n",
        "\t'frequency_id': 1}\n",
        "\n",
        "\n",
        "parana_series_list = [\n",
        "               parana_soil_moisture,\n",
        "               ]\n",
        "\n",
        "# Soil moisture on cropland - Availability in soil (volume/volume) - \n",
        "# Rio Grande do Sul (Gro Derived Geospatial)\n",
        "rio_grande_do_sul_soil_moisture = {'metric_id': 15531082, \n",
        "\t'item_id': 8938,\n",
        "\t'region_id': 10424,\n",
        "\t'partner_region_id': 0, \n",
        "\t'source_id': 82, \n",
        "\t'frequency_id': 1}\n",
        "\n",
        "\n",
        "rio_grande_do_sul_series_list = [\n",
        "               rio_grande_do_sul_soil_moisture,\n",
        "               ]"
      ],
      "execution_count": 9,
      "outputs": []
    },
    {
      "cell_type": "markdown",
      "metadata": {
        "id": "H9VtVk8P7piW"
      },
      "source": [
        "## Mato Grosso"
      ]
    },
    {
      "cell_type": "code",
      "metadata": {
        "colab": {
          "base_uri": "https://localhost:8080/",
          "height": 461
        },
        "id": "o6PG1Xy3RrJz",
        "outputId": "0f0b19b1-0ece-4611-d0a8-d1da04a3e534"
      },
      "source": [
        "result_mato_grosso_9 = final_ranks_computation.analogous_years(\n",
        "    GROAPI_TOKEN, mato_grosso_series_list, initial_date_9, final_date_9, all_ranks=True, enso=True\n",
        "    # methods_list=['cumulative', 'euclidean', 'ts-features', 'dtw']\n",
        "    )\n",
        "result_mato_grosso_9"
      ],
      "execution_count": 10,
      "outputs": [
        {
          "output_type": "stream",
          "text": [
            "Feature Extraction: 100%|██████████| 11/11 [00:01<00:00,  6.56it/s]\n",
            "Feature Extraction: 100%|██████████| 11/11 [00:01<00:00,  6.50it/s]\n"
          ],
          "name": "stderr"
        },
        {
          "output_type": "execute_result",
          "data": {
            "text/html": [
              "<div>\n",
              "<style scoped>\n",
              "    .dataframe tbody tr th:only-of-type {\n",
              "        vertical-align: middle;\n",
              "    }\n",
              "\n",
              "    .dataframe tbody tr th {\n",
              "        vertical-align: top;\n",
              "    }\n",
              "\n",
              "    .dataframe thead th {\n",
              "        text-align: right;\n",
              "    }\n",
              "</style>\n",
              "<table border=\"1\" class=\"dataframe\">\n",
              "  <thead>\n",
              "    <tr style=\"text-align: right;\">\n",
              "      <th></th>\n",
              "      <th>cumulative_rank</th>\n",
              "      <th>euclidean_rank</th>\n",
              "      <th>ts-features_rank</th>\n",
              "      <th>composite_rank</th>\n",
              "    </tr>\n",
              "    <tr>\n",
              "      <th>period</th>\n",
              "      <th></th>\n",
              "      <th></th>\n",
              "      <th></th>\n",
              "      <th></th>\n",
              "    </tr>\n",
              "  </thead>\n",
              "  <tbody>\n",
              "    <tr>\n",
              "      <th>2010-02-01 to 2010-10-31</th>\n",
              "      <td>3</td>\n",
              "      <td>7</td>\n",
              "      <td>7</td>\n",
              "      <td>5</td>\n",
              "    </tr>\n",
              "    <tr>\n",
              "      <th>2011-02-01 to 2011-10-31</th>\n",
              "      <td>9</td>\n",
              "      <td>8</td>\n",
              "      <td>6</td>\n",
              "      <td>9</td>\n",
              "    </tr>\n",
              "    <tr>\n",
              "      <th>2012-02-01 to 2012-10-31</th>\n",
              "      <td>2</td>\n",
              "      <td>2</td>\n",
              "      <td>3</td>\n",
              "      <td>2</td>\n",
              "    </tr>\n",
              "    <tr>\n",
              "      <th>2013-02-01 to 2013-10-31</th>\n",
              "      <td>7</td>\n",
              "      <td>5</td>\n",
              "      <td>5</td>\n",
              "      <td>6</td>\n",
              "    </tr>\n",
              "    <tr>\n",
              "      <th>2014-02-01 to 2014-10-31</th>\n",
              "      <td>10</td>\n",
              "      <td>10</td>\n",
              "      <td>8</td>\n",
              "      <td>10</td>\n",
              "    </tr>\n",
              "    <tr>\n",
              "      <th>2015-02-01 to 2015-10-31</th>\n",
              "      <td>11</td>\n",
              "      <td>11</td>\n",
              "      <td>11</td>\n",
              "      <td>11</td>\n",
              "    </tr>\n",
              "    <tr>\n",
              "      <th>2016-02-01 to 2016-10-31</th>\n",
              "      <td>8</td>\n",
              "      <td>6</td>\n",
              "      <td>9</td>\n",
              "      <td>8</td>\n",
              "    </tr>\n",
              "    <tr>\n",
              "      <th>2017-02-01 to 2017-10-31</th>\n",
              "      <td>5</td>\n",
              "      <td>4</td>\n",
              "      <td>2</td>\n",
              "      <td>4</td>\n",
              "    </tr>\n",
              "    <tr>\n",
              "      <th>2018-02-01 to 2018-10-31</th>\n",
              "      <td>6</td>\n",
              "      <td>9</td>\n",
              "      <td>10</td>\n",
              "      <td>7</td>\n",
              "    </tr>\n",
              "    <tr>\n",
              "      <th>2019-02-01 to 2019-10-31</th>\n",
              "      <td>4</td>\n",
              "      <td>3</td>\n",
              "      <td>4</td>\n",
              "      <td>3</td>\n",
              "    </tr>\n",
              "    <tr>\n",
              "      <th>2020-02-01 to 2020-10-31</th>\n",
              "      <td>1</td>\n",
              "      <td>1</td>\n",
              "      <td>1</td>\n",
              "      <td>1</td>\n",
              "    </tr>\n",
              "  </tbody>\n",
              "</table>\n",
              "</div>"
            ],
            "text/plain": [
              "                          cumulative_rank  ...  composite_rank\n",
              "period                                     ...                \n",
              "2010-02-01 to 2010-10-31                3  ...               5\n",
              "2011-02-01 to 2011-10-31                9  ...               9\n",
              "2012-02-01 to 2012-10-31                2  ...               2\n",
              "2013-02-01 to 2013-10-31                7  ...               6\n",
              "2014-02-01 to 2014-10-31               10  ...              10\n",
              "2015-02-01 to 2015-10-31               11  ...              11\n",
              "2016-02-01 to 2016-10-31                8  ...               8\n",
              "2017-02-01 to 2017-10-31                5  ...               4\n",
              "2018-02-01 to 2018-10-31                6  ...               7\n",
              "2019-02-01 to 2019-10-31                4  ...               3\n",
              "2020-02-01 to 2020-10-31                1  ...               1\n",
              "\n",
              "[11 rows x 4 columns]"
            ]
          },
          "metadata": {
            "tags": []
          },
          "execution_count": 10
        }
      ]
    },
    {
      "cell_type": "markdown",
      "metadata": {
        "id": "3f6o9wMM8IJq"
      },
      "source": [
        "## Mato Grosso Do Sul"
      ]
    },
    {
      "cell_type": "code",
      "metadata": {
        "id": "BEhbdQTVTAvk",
        "colab": {
          "base_uri": "https://localhost:8080/",
          "height": 461
        },
        "outputId": "a1d4c946-da70-4d31-bc1e-d5d984ff6bd5"
      },
      "source": [
        "result_mato_grosso_do_sul_9 = final_ranks_computation.analogous_years(\n",
        "    GROAPI_TOKEN, mato_grosso_do_sul_series_list, initial_date_9, final_date_9, enso=True, all_ranks=True)\n",
        "result_mato_grosso_do_sul_9"
      ],
      "execution_count": 11,
      "outputs": [
        {
          "output_type": "stream",
          "text": [
            "Feature Extraction: 100%|██████████| 11/11 [00:01<00:00,  6.49it/s]\n",
            "Feature Extraction: 100%|██████████| 11/11 [00:01<00:00,  6.52it/s]\n"
          ],
          "name": "stderr"
        },
        {
          "output_type": "execute_result",
          "data": {
            "text/html": [
              "<div>\n",
              "<style scoped>\n",
              "    .dataframe tbody tr th:only-of-type {\n",
              "        vertical-align: middle;\n",
              "    }\n",
              "\n",
              "    .dataframe tbody tr th {\n",
              "        vertical-align: top;\n",
              "    }\n",
              "\n",
              "    .dataframe thead th {\n",
              "        text-align: right;\n",
              "    }\n",
              "</style>\n",
              "<table border=\"1\" class=\"dataframe\">\n",
              "  <thead>\n",
              "    <tr style=\"text-align: right;\">\n",
              "      <th></th>\n",
              "      <th>cumulative_rank</th>\n",
              "      <th>euclidean_rank</th>\n",
              "      <th>ts-features_rank</th>\n",
              "      <th>composite_rank</th>\n",
              "    </tr>\n",
              "    <tr>\n",
              "      <th>period</th>\n",
              "      <th></th>\n",
              "      <th></th>\n",
              "      <th></th>\n",
              "      <th></th>\n",
              "    </tr>\n",
              "  </thead>\n",
              "  <tbody>\n",
              "    <tr>\n",
              "      <th>2010-02-01 to 2010-10-31</th>\n",
              "      <td>5</td>\n",
              "      <td>8</td>\n",
              "      <td>6</td>\n",
              "      <td>5</td>\n",
              "    </tr>\n",
              "    <tr>\n",
              "      <th>2011-02-01 to 2011-10-31</th>\n",
              "      <td>7</td>\n",
              "      <td>10</td>\n",
              "      <td>9</td>\n",
              "      <td>9</td>\n",
              "    </tr>\n",
              "    <tr>\n",
              "      <th>2012-02-01 to 2012-10-31</th>\n",
              "      <td>4</td>\n",
              "      <td>4</td>\n",
              "      <td>3</td>\n",
              "      <td>4</td>\n",
              "    </tr>\n",
              "    <tr>\n",
              "      <th>2013-02-01 to 2013-10-31</th>\n",
              "      <td>9</td>\n",
              "      <td>6</td>\n",
              "      <td>4</td>\n",
              "      <td>6</td>\n",
              "    </tr>\n",
              "    <tr>\n",
              "      <th>2014-02-01 to 2014-10-31</th>\n",
              "      <td>8</td>\n",
              "      <td>7</td>\n",
              "      <td>7</td>\n",
              "      <td>8</td>\n",
              "    </tr>\n",
              "    <tr>\n",
              "      <th>2015-02-01 to 2015-10-31</th>\n",
              "      <td>11</td>\n",
              "      <td>11</td>\n",
              "      <td>11</td>\n",
              "      <td>11</td>\n",
              "    </tr>\n",
              "    <tr>\n",
              "      <th>2016-02-01 to 2016-10-31</th>\n",
              "      <td>10</td>\n",
              "      <td>5</td>\n",
              "      <td>10</td>\n",
              "      <td>10</td>\n",
              "    </tr>\n",
              "    <tr>\n",
              "      <th>2017-02-01 to 2017-10-31</th>\n",
              "      <td>3</td>\n",
              "      <td>2</td>\n",
              "      <td>2</td>\n",
              "      <td>2</td>\n",
              "    </tr>\n",
              "    <tr>\n",
              "      <th>2018-02-01 to 2018-10-31</th>\n",
              "      <td>6</td>\n",
              "      <td>9</td>\n",
              "      <td>8</td>\n",
              "      <td>7</td>\n",
              "    </tr>\n",
              "    <tr>\n",
              "      <th>2019-02-01 to 2019-10-31</th>\n",
              "      <td>2</td>\n",
              "      <td>3</td>\n",
              "      <td>5</td>\n",
              "      <td>3</td>\n",
              "    </tr>\n",
              "    <tr>\n",
              "      <th>2020-02-01 to 2020-10-31</th>\n",
              "      <td>1</td>\n",
              "      <td>1</td>\n",
              "      <td>1</td>\n",
              "      <td>1</td>\n",
              "    </tr>\n",
              "  </tbody>\n",
              "</table>\n",
              "</div>"
            ],
            "text/plain": [
              "                          cumulative_rank  ...  composite_rank\n",
              "period                                     ...                \n",
              "2010-02-01 to 2010-10-31                5  ...               5\n",
              "2011-02-01 to 2011-10-31                7  ...               9\n",
              "2012-02-01 to 2012-10-31                4  ...               4\n",
              "2013-02-01 to 2013-10-31                9  ...               6\n",
              "2014-02-01 to 2014-10-31                8  ...               8\n",
              "2015-02-01 to 2015-10-31               11  ...              11\n",
              "2016-02-01 to 2016-10-31               10  ...              10\n",
              "2017-02-01 to 2017-10-31                3  ...               2\n",
              "2018-02-01 to 2018-10-31                6  ...               7\n",
              "2019-02-01 to 2019-10-31                2  ...               3\n",
              "2020-02-01 to 2020-10-31                1  ...               1\n",
              "\n",
              "[11 rows x 4 columns]"
            ]
          },
          "metadata": {
            "tags": []
          },
          "execution_count": 11
        }
      ]
    },
    {
      "cell_type": "markdown",
      "metadata": {
        "id": "sM3rUX-I8RJB"
      },
      "source": [
        "## Parana"
      ]
    },
    {
      "cell_type": "code",
      "metadata": {
        "colab": {
          "base_uri": "https://localhost:8080/",
          "height": 461
        },
        "id": "iybrBAl78F5k",
        "outputId": "69b847b9-4480-4807-b5bb-b4ca550f1788"
      },
      "source": [
        "result_parana_9 = final_ranks_computation.analogous_years(\n",
        "    GROAPI_TOKEN, parana_series_list, initial_date_9, final_date_9, enso=True, all_ranks=True)\n",
        "result_parana_9"
      ],
      "execution_count": 12,
      "outputs": [
        {
          "output_type": "stream",
          "text": [
            "Feature Extraction: 100%|██████████| 11/11 [00:01<00:00,  6.49it/s]\n",
            "Feature Extraction: 100%|██████████| 11/11 [00:01<00:00,  6.42it/s]\n"
          ],
          "name": "stderr"
        },
        {
          "output_type": "execute_result",
          "data": {
            "text/html": [
              "<div>\n",
              "<style scoped>\n",
              "    .dataframe tbody tr th:only-of-type {\n",
              "        vertical-align: middle;\n",
              "    }\n",
              "\n",
              "    .dataframe tbody tr th {\n",
              "        vertical-align: top;\n",
              "    }\n",
              "\n",
              "    .dataframe thead th {\n",
              "        text-align: right;\n",
              "    }\n",
              "</style>\n",
              "<table border=\"1\" class=\"dataframe\">\n",
              "  <thead>\n",
              "    <tr style=\"text-align: right;\">\n",
              "      <th></th>\n",
              "      <th>cumulative_rank</th>\n",
              "      <th>euclidean_rank</th>\n",
              "      <th>ts-features_rank</th>\n",
              "      <th>composite_rank</th>\n",
              "    </tr>\n",
              "    <tr>\n",
              "      <th>period</th>\n",
              "      <th></th>\n",
              "      <th></th>\n",
              "      <th></th>\n",
              "      <th></th>\n",
              "    </tr>\n",
              "  </thead>\n",
              "  <tbody>\n",
              "    <tr>\n",
              "      <th>2010-02-01 to 2010-10-31</th>\n",
              "      <td>4</td>\n",
              "      <td>8</td>\n",
              "      <td>7</td>\n",
              "      <td>6</td>\n",
              "    </tr>\n",
              "    <tr>\n",
              "      <th>2011-02-01 to 2011-10-31</th>\n",
              "      <td>7</td>\n",
              "      <td>6</td>\n",
              "      <td>5</td>\n",
              "      <td>5</td>\n",
              "    </tr>\n",
              "    <tr>\n",
              "      <th>2012-02-01 to 2012-10-31</th>\n",
              "      <td>3</td>\n",
              "      <td>4</td>\n",
              "      <td>4</td>\n",
              "      <td>3</td>\n",
              "    </tr>\n",
              "    <tr>\n",
              "      <th>2013-02-01 to 2013-10-31</th>\n",
              "      <td>8</td>\n",
              "      <td>5</td>\n",
              "      <td>6</td>\n",
              "      <td>7</td>\n",
              "    </tr>\n",
              "    <tr>\n",
              "      <th>2014-02-01 to 2014-10-31</th>\n",
              "      <td>9</td>\n",
              "      <td>7</td>\n",
              "      <td>8</td>\n",
              "      <td>9</td>\n",
              "    </tr>\n",
              "    <tr>\n",
              "      <th>2015-02-01 to 2015-10-31</th>\n",
              "      <td>11</td>\n",
              "      <td>11</td>\n",
              "      <td>11</td>\n",
              "      <td>11</td>\n",
              "    </tr>\n",
              "    <tr>\n",
              "      <th>2016-02-01 to 2016-10-31</th>\n",
              "      <td>10</td>\n",
              "      <td>10</td>\n",
              "      <td>9</td>\n",
              "      <td>10</td>\n",
              "    </tr>\n",
              "    <tr>\n",
              "      <th>2017-02-01 to 2017-10-31</th>\n",
              "      <td>6</td>\n",
              "      <td>3</td>\n",
              "      <td>3</td>\n",
              "      <td>4</td>\n",
              "    </tr>\n",
              "    <tr>\n",
              "      <th>2018-02-01 to 2018-10-31</th>\n",
              "      <td>5</td>\n",
              "      <td>9</td>\n",
              "      <td>10</td>\n",
              "      <td>8</td>\n",
              "    </tr>\n",
              "    <tr>\n",
              "      <th>2019-02-01 to 2019-10-31</th>\n",
              "      <td>2</td>\n",
              "      <td>2</td>\n",
              "      <td>2</td>\n",
              "      <td>2</td>\n",
              "    </tr>\n",
              "    <tr>\n",
              "      <th>2020-02-01 to 2020-10-31</th>\n",
              "      <td>1</td>\n",
              "      <td>1</td>\n",
              "      <td>1</td>\n",
              "      <td>1</td>\n",
              "    </tr>\n",
              "  </tbody>\n",
              "</table>\n",
              "</div>"
            ],
            "text/plain": [
              "                          cumulative_rank  ...  composite_rank\n",
              "period                                     ...                \n",
              "2010-02-01 to 2010-10-31                4  ...               6\n",
              "2011-02-01 to 2011-10-31                7  ...               5\n",
              "2012-02-01 to 2012-10-31                3  ...               3\n",
              "2013-02-01 to 2013-10-31                8  ...               7\n",
              "2014-02-01 to 2014-10-31                9  ...               9\n",
              "2015-02-01 to 2015-10-31               11  ...              11\n",
              "2016-02-01 to 2016-10-31               10  ...              10\n",
              "2017-02-01 to 2017-10-31                6  ...               4\n",
              "2018-02-01 to 2018-10-31                5  ...               8\n",
              "2019-02-01 to 2019-10-31                2  ...               2\n",
              "2020-02-01 to 2020-10-31                1  ...               1\n",
              "\n",
              "[11 rows x 4 columns]"
            ]
          },
          "metadata": {
            "tags": []
          },
          "execution_count": 12
        }
      ]
    },
    {
      "cell_type": "markdown",
      "metadata": {
        "id": "tNMhzXuc8efj"
      },
      "source": [
        "## Rio Grande Do Sul"
      ]
    },
    {
      "cell_type": "code",
      "metadata": {
        "colab": {
          "base_uri": "https://localhost:8080/",
          "height": 461
        },
        "id": "9Tr7uEoR8bHp",
        "outputId": "6afa923d-4f86-40fb-d112-5faef6a1daeb"
      },
      "source": [
        "result_rio_grande_do_sul_9 = final_ranks_computation.analogous_years(\n",
        "    GROAPI_TOKEN, rio_grande_do_sul_series_list, initial_date_9, final_date_9, enso=True, all_ranks=True)\n",
        "result_rio_grande_do_sul_9"
      ],
      "execution_count": 13,
      "outputs": [
        {
          "output_type": "stream",
          "text": [
            "Feature Extraction: 100%|██████████| 11/11 [00:01<00:00,  6.45it/s]\n",
            "Feature Extraction: 100%|██████████| 11/11 [00:01<00:00,  6.37it/s]\n"
          ],
          "name": "stderr"
        },
        {
          "output_type": "execute_result",
          "data": {
            "text/html": [
              "<div>\n",
              "<style scoped>\n",
              "    .dataframe tbody tr th:only-of-type {\n",
              "        vertical-align: middle;\n",
              "    }\n",
              "\n",
              "    .dataframe tbody tr th {\n",
              "        vertical-align: top;\n",
              "    }\n",
              "\n",
              "    .dataframe thead th {\n",
              "        text-align: right;\n",
              "    }\n",
              "</style>\n",
              "<table border=\"1\" class=\"dataframe\">\n",
              "  <thead>\n",
              "    <tr style=\"text-align: right;\">\n",
              "      <th></th>\n",
              "      <th>cumulative_rank</th>\n",
              "      <th>euclidean_rank</th>\n",
              "      <th>ts-features_rank</th>\n",
              "      <th>composite_rank</th>\n",
              "    </tr>\n",
              "    <tr>\n",
              "      <th>period</th>\n",
              "      <th></th>\n",
              "      <th></th>\n",
              "      <th></th>\n",
              "      <th></th>\n",
              "    </tr>\n",
              "  </thead>\n",
              "  <tbody>\n",
              "    <tr>\n",
              "      <th>2010-02-01 to 2010-10-31</th>\n",
              "      <td>8</td>\n",
              "      <td>8</td>\n",
              "      <td>7</td>\n",
              "      <td>8</td>\n",
              "    </tr>\n",
              "    <tr>\n",
              "      <th>2011-02-01 to 2011-10-31</th>\n",
              "      <td>7</td>\n",
              "      <td>9</td>\n",
              "      <td>9</td>\n",
              "      <td>9</td>\n",
              "    </tr>\n",
              "    <tr>\n",
              "      <th>2012-02-01 to 2012-10-31</th>\n",
              "      <td>2</td>\n",
              "      <td>3</td>\n",
              "      <td>3</td>\n",
              "      <td>2</td>\n",
              "    </tr>\n",
              "    <tr>\n",
              "      <th>2013-02-01 to 2013-10-31</th>\n",
              "      <td>3</td>\n",
              "      <td>2</td>\n",
              "      <td>5</td>\n",
              "      <td>3</td>\n",
              "    </tr>\n",
              "    <tr>\n",
              "      <th>2014-02-01 to 2014-10-31</th>\n",
              "      <td>10</td>\n",
              "      <td>5</td>\n",
              "      <td>4</td>\n",
              "      <td>7</td>\n",
              "    </tr>\n",
              "    <tr>\n",
              "      <th>2015-02-01 to 2015-10-31</th>\n",
              "      <td>11</td>\n",
              "      <td>11</td>\n",
              "      <td>10</td>\n",
              "      <td>11</td>\n",
              "    </tr>\n",
              "    <tr>\n",
              "      <th>2016-02-01 to 2016-10-31</th>\n",
              "      <td>9</td>\n",
              "      <td>10</td>\n",
              "      <td>11</td>\n",
              "      <td>10</td>\n",
              "    </tr>\n",
              "    <tr>\n",
              "      <th>2017-02-01 to 2017-10-31</th>\n",
              "      <td>5</td>\n",
              "      <td>4</td>\n",
              "      <td>2</td>\n",
              "      <td>4</td>\n",
              "    </tr>\n",
              "    <tr>\n",
              "      <th>2018-02-01 to 2018-10-31</th>\n",
              "      <td>4</td>\n",
              "      <td>6</td>\n",
              "      <td>8</td>\n",
              "      <td>5</td>\n",
              "    </tr>\n",
              "    <tr>\n",
              "      <th>2019-02-01 to 2019-10-31</th>\n",
              "      <td>6</td>\n",
              "      <td>7</td>\n",
              "      <td>6</td>\n",
              "      <td>6</td>\n",
              "    </tr>\n",
              "    <tr>\n",
              "      <th>2020-02-01 to 2020-10-31</th>\n",
              "      <td>1</td>\n",
              "      <td>1</td>\n",
              "      <td>1</td>\n",
              "      <td>1</td>\n",
              "    </tr>\n",
              "  </tbody>\n",
              "</table>\n",
              "</div>"
            ],
            "text/plain": [
              "                          cumulative_rank  ...  composite_rank\n",
              "period                                     ...                \n",
              "2010-02-01 to 2010-10-31                8  ...               8\n",
              "2011-02-01 to 2011-10-31                7  ...               9\n",
              "2012-02-01 to 2012-10-31                2  ...               2\n",
              "2013-02-01 to 2013-10-31                3  ...               3\n",
              "2014-02-01 to 2014-10-31               10  ...               7\n",
              "2015-02-01 to 2015-10-31               11  ...              11\n",
              "2016-02-01 to 2016-10-31                9  ...              10\n",
              "2017-02-01 to 2017-10-31                5  ...               4\n",
              "2018-02-01 to 2018-10-31                4  ...               5\n",
              "2019-02-01 to 2019-10-31                6  ...               6\n",
              "2020-02-01 to 2020-10-31                1  ...               1\n",
              "\n",
              "[11 rows x 4 columns]"
            ]
          },
          "metadata": {
            "tags": []
          },
          "execution_count": 13
        }
      ]
    },
    {
      "cell_type": "code",
      "metadata": {
        "id": "lsrjKC248uPl"
      },
      "source": [
        ""
      ],
      "execution_count": 13,
      "outputs": []
    }
  ]
}