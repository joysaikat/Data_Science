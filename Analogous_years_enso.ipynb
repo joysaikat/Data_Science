{
  "nbformat": 4,
  "nbformat_minor": 0,
  "metadata": {
    "colab": {
      "name": "Analogous_years_enso.ipynb",
      "provenance": [],
      "authorship_tag": "ABX9TyNZlB5p4vQIVT5PiwHJfJBs",
      "include_colab_link": true
    },
    "kernelspec": {
      "name": "python3",
      "display_name": "Python 3"
    }
  },
  "cells": [
    {
      "cell_type": "markdown",
      "metadata": {
        "id": "view-in-github",
        "colab_type": "text"
      },
      "source": [
        "<a href=\"https://colab.research.google.com/github/joysaikat/Data_Science/blob/master/Analogous_years_enso.ipynb\" target=\"_parent\"><img src=\"https://colab.research.google.com/assets/colab-badge.svg\" alt=\"Open In Colab\"/></a>"
      ]
    },
    {
      "cell_type": "markdown",
      "metadata": {
        "id": "391y4dytcuOc"
      },
      "source": [
        "# Analgous Years Example\n",
        "The Analogous Years application enables users to compare events from a set period of time, to those of the same date range in other years. The application will compute ranks of similarity between the specified period, and the same period from previous or future years."
      ]
    },
    {
      "cell_type": "markdown",
      "metadata": {
        "id": "n58oqv5FdCNK"
      },
      "source": [
        "# -1. Optional Cell To Add Gro-access-token (Read before running)\n",
        "You should run the following cell (after appropriately modifying) ONLY if you have saved the `GROAPI_TOKEN` in their google drive. You will have the option to manually add the access token, later."
      ]
    },
    {
      "cell_type": "code",
      "metadata": {
        "id": "v_66GJgWWY72",
        "outputId": "d04ec756-5d8c-4412-d026-6b627d0939ee",
        "colab": {
          "base_uri": "https://localhost:8080/"
        }
      },
      "source": [
        "from google.colab import drive\n",
        "drive.mount('/content/drive')\n",
        "!pip install ConfigParser #Package for parsing configuration file holding GROAPI_TOKEN\n",
        "import configparser\n",
        "config = configparser.RawConfigParser()\n",
        "config.read('/content/drive/My Drive/Colab Notebooks/Properties/gro.properties')#"
      ],
      "execution_count": 1,
      "outputs": [
        {
          "output_type": "stream",
          "text": [
            "Mounted at /content/drive\n",
            "Collecting ConfigParser\n",
            "  Downloading https://files.pythonhosted.org/packages/08/b2/ef713e0e67f6e7ec7d59aea3ee78d05b39c15930057e724cc6d362a8c3bb/configparser-5.0.1-py3-none-any.whl\n",
            "Installing collected packages: ConfigParser\n",
            "Successfully installed ConfigParser-5.0.1\n"
          ],
          "name": "stdout"
        },
        {
          "output_type": "execute_result",
          "data": {
            "text/plain": [
              "['/content/drive/My Drive/Colab Notebooks/Properties/gro.properties']"
            ]
          },
          "metadata": {
            "tags": []
          },
          "execution_count": 1
        }
      ]
    },
    {
      "cell_type": "markdown",
      "metadata": {
        "id": "8VjY5x7Adkip"
      },
      "source": [
        "## 0. Install Gro API client and other Analogous Years packages.\n",
        "To get started with `Analogous Years`, you have to install `Gro API Client` and some of the necessary libraries (which do not come installed in Colab) for running the `analogous_years` package."
      ]
    },
    {
      "cell_type": "code",
      "metadata": {
        "id": "TwGoC7TImph0",
        "outputId": "8dbd9c7d-d5bd-4b5c-871c-c43666a009da",
        "colab": {
          "base_uri": "https://localhost:8080/"
        }
      },
      "source": [
        "!pip install git+https://github.com/gro-intelligence/api-client.git #Install Gro api client\n",
        "!pip install dtw # dynamic time warping package for running analogous_years\n",
        "!pip install tsfresh # time series feature extraction package for running analogous_years\n",
        "\n",
        "# from groclient import GroClient\n",
        "from api.client.samples.analogous_years.lib import final_ranks_computation\n",
        "import pandas as pd\n",
        "pd.options.mode.chained_assignment = None # This is to avoid seeing a lot of warnings from pandas"
      ],
      "execution_count": 2,
      "outputs": [
        {
          "output_type": "stream",
          "text": [
            "Collecting git+https://github.com/gro-intelligence/api-client.git\n",
            "  Cloning https://github.com/gro-intelligence/api-client.git to /tmp/pip-req-build-v3ag_vxm\n",
            "  Running command git clone -q https://github.com/gro-intelligence/api-client.git /tmp/pip-req-build-v3ag_vxm\n",
            "Collecting backports.functools_lru_cache\n",
            "  Downloading https://files.pythonhosted.org/packages/da/d1/080d2bb13773803648281a49e3918f65b31b7beebf009887a529357fd44a/backports.functools_lru_cache-1.6.1-py2.py3-none-any.whl\n",
            "Requirement already satisfied: certifi in /usr/local/lib/python3.6/dist-packages (from groclient==1.83.0) (2020.6.20)\n",
            "Requirement already satisfied: chardet in /usr/local/lib/python3.6/dist-packages (from groclient==1.83.0) (3.0.4)\n",
            "Requirement already satisfied: future in /usr/local/lib/python3.6/dist-packages (from groclient==1.83.0) (0.16.0)\n",
            "Requirement already satisfied: numpy in /usr/local/lib/python3.6/dist-packages (from groclient==1.83.0) (1.18.5)\n",
            "Requirement already satisfied: pandas in /usr/local/lib/python3.6/dist-packages (from groclient==1.83.0) (1.1.4)\n",
            "Requirement already satisfied: python-dateutil in /usr/local/lib/python3.6/dist-packages (from groclient==1.83.0) (2.8.1)\n",
            "Requirement already satisfied: pytz in /usr/local/lib/python3.6/dist-packages (from groclient==1.83.0) (2018.9)\n",
            "Requirement already satisfied: requests in /usr/local/lib/python3.6/dist-packages (from groclient==1.83.0) (2.23.0)\n",
            "Requirement already satisfied: tornado in /usr/local/lib/python3.6/dist-packages (from groclient==1.83.0) (5.1.1)\n",
            "Collecting unicodecsv\n",
            "  Downloading https://files.pythonhosted.org/packages/6f/a4/691ab63b17505a26096608cc309960b5a6bdf39e4ba1a793d5f9b1a53270/unicodecsv-0.14.1.tar.gz\n",
            "Requirement already satisfied: urllib3 in /usr/local/lib/python3.6/dist-packages (from groclient==1.83.0) (1.24.3)\n",
            "Requirement already satisfied: six>=1.5 in /usr/local/lib/python3.6/dist-packages (from python-dateutil->groclient==1.83.0) (1.15.0)\n",
            "Requirement already satisfied: idna<3,>=2.5 in /usr/local/lib/python3.6/dist-packages (from requests->groclient==1.83.0) (2.10)\n",
            "Building wheels for collected packages: groclient, unicodecsv\n",
            "  Building wheel for groclient (setup.py) ... \u001b[?25l\u001b[?25hdone\n",
            "  Created wheel for groclient: filename=groclient-1.83.0-cp36-none-any.whl size=79903 sha256=47aefe598fbf0d0678d543e754e060d221ea0c29ed6212c86133db63448c0a19\n",
            "  Stored in directory: /tmp/pip-ephem-wheel-cache-0x3v_wbq/wheels/22/03/97/10896ebca874c083ebb2c0e99ef60f0224b1c4a0a063dec9d3\n",
            "  Building wheel for unicodecsv (setup.py) ... \u001b[?25l\u001b[?25hdone\n",
            "  Created wheel for unicodecsv: filename=unicodecsv-0.14.1-cp36-none-any.whl size=10769 sha256=4ff984ccc2b761f86c2154ed5f8f9d73cc0ec41c2cd0fc6e9a09108796a582ed\n",
            "  Stored in directory: /root/.cache/pip/wheels/a6/09/e9/e800279c98a0a8c94543f3de6c8a562f60e51363ed26e71283\n",
            "Successfully built groclient unicodecsv\n",
            "Installing collected packages: backports.functools-lru-cache, unicodecsv, groclient\n",
            "Successfully installed backports.functools-lru-cache-1.6.1 groclient-1.83.0 unicodecsv-0.14.1\n",
            "Collecting dtw\n",
            "  Downloading https://files.pythonhosted.org/packages/66/a0/21d6ec377b8d5832218700e236205f8cdea38b3b2cdd0a732be170e2809b/dtw-1.4.0.tar.gz\n",
            "Requirement already satisfied: numpy in /usr/local/lib/python3.6/dist-packages (from dtw) (1.18.5)\n",
            "Requirement already satisfied: scipy in /usr/local/lib/python3.6/dist-packages (from dtw) (1.4.1)\n",
            "Building wheels for collected packages: dtw\n",
            "  Building wheel for dtw (setup.py) ... \u001b[?25l\u001b[?25hdone\n",
            "  Created wheel for dtw: filename=dtw-1.4.0-cp36-none-any.whl size=5315 sha256=f44b4faec7166f7596856b0e73035723cf21f55681714c17433492d2a80719b3\n",
            "  Stored in directory: /root/.cache/pip/wheels/8c/8b/7a/947d67b53cd54948890a173527b0470ef56998812fc9d0a803\n",
            "Successfully built dtw\n",
            "Installing collected packages: dtw\n",
            "Successfully installed dtw-1.4.0\n",
            "Collecting tsfresh\n",
            "\u001b[?25l  Downloading https://files.pythonhosted.org/packages/35/b7/cbbfb02d50a93dbb710a730f168711eb343829e1cdea9f0d001d91aeefd6/tsfresh-0.17.0-py2.py3-none-any.whl (91kB)\n",
            "\u001b[K     |████████████████████████████████| 92kB 2.4MB/s \n",
            "\u001b[?25hRequirement already satisfied: pandas>=0.25.0 in /usr/local/lib/python3.6/dist-packages (from tsfresh) (1.1.4)\n",
            "Requirement already satisfied: tqdm>=4.10.0 in /usr/local/lib/python3.6/dist-packages (from tsfresh) (4.41.1)\n",
            "Requirement already satisfied: patsy>=0.4.1 in /usr/local/lib/python3.6/dist-packages (from tsfresh) (0.5.1)\n",
            "Requirement already satisfied: requests>=2.9.1 in /usr/local/lib/python3.6/dist-packages (from tsfresh) (2.23.0)\n",
            "Requirement already satisfied: statsmodels>=0.9.0 in /usr/local/lib/python3.6/dist-packages (from tsfresh) (0.10.2)\n",
            "Requirement already satisfied: scikit-learn>=0.19.2 in /usr/local/lib/python3.6/dist-packages (from tsfresh) (0.22.2.post1)\n",
            "Requirement already satisfied: dask[dataframe]>=2.9.0 in /usr/local/lib/python3.6/dist-packages (from tsfresh) (2.12.0)\n",
            "Requirement already satisfied: numpy>=1.15.1 in /usr/local/lib/python3.6/dist-packages (from tsfresh) (1.18.5)\n",
            "Collecting distributed>=2.11.0\n",
            "\u001b[?25l  Downloading https://files.pythonhosted.org/packages/88/38/d9f0e31c15de18cb124d1ed33cf9c99c84f05f251ff6767e7573c217725b/distributed-2.30.1-py3-none-any.whl (656kB)\n",
            "\u001b[K     |████████████████████████████████| 665kB 7.1MB/s \n",
            "\u001b[?25hRequirement already satisfied: scipy>=1.2.0 in /usr/local/lib/python3.6/dist-packages (from tsfresh) (1.4.1)\n",
            "Requirement already satisfied: pytz>=2017.2 in /usr/local/lib/python3.6/dist-packages (from pandas>=0.25.0->tsfresh) (2018.9)\n",
            "Requirement already satisfied: python-dateutil>=2.7.3 in /usr/local/lib/python3.6/dist-packages (from pandas>=0.25.0->tsfresh) (2.8.1)\n",
            "Requirement already satisfied: six in /usr/local/lib/python3.6/dist-packages (from patsy>=0.4.1->tsfresh) (1.15.0)\n",
            "Requirement already satisfied: chardet<4,>=3.0.2 in /usr/local/lib/python3.6/dist-packages (from requests>=2.9.1->tsfresh) (3.0.4)\n",
            "Requirement already satisfied: urllib3!=1.25.0,!=1.25.1,<1.26,>=1.21.1 in /usr/local/lib/python3.6/dist-packages (from requests>=2.9.1->tsfresh) (1.24.3)\n",
            "Requirement already satisfied: certifi>=2017.4.17 in /usr/local/lib/python3.6/dist-packages (from requests>=2.9.1->tsfresh) (2020.6.20)\n",
            "Requirement already satisfied: idna<3,>=2.5 in /usr/local/lib/python3.6/dist-packages (from requests>=2.9.1->tsfresh) (2.10)\n",
            "Requirement already satisfied: joblib>=0.11 in /usr/local/lib/python3.6/dist-packages (from scikit-learn>=0.19.2->tsfresh) (0.17.0)\n",
            "Requirement already satisfied: toolz>=0.7.3; extra == \"dataframe\" in /usr/local/lib/python3.6/dist-packages (from dask[dataframe]>=2.9.0->tsfresh) (0.11.1)\n",
            "Collecting fsspec>=0.6.0; extra == \"dataframe\"\n",
            "\u001b[?25l  Downloading https://files.pythonhosted.org/packages/a5/8b/1df260f860f17cb08698170153ef7db672c497c1840dcc8613ce26a8a005/fsspec-0.8.4-py3-none-any.whl (91kB)\n",
            "\u001b[K     |████████████████████████████████| 92kB 9.6MB/s \n",
            "\u001b[?25hCollecting partd>=0.3.10; extra == \"dataframe\"\n",
            "  Downloading https://files.pythonhosted.org/packages/44/e1/68dbe731c9c067655bff1eca5b7d40c20ca4b23fd5ec9f3d17e201a6f36b/partd-1.1.0-py3-none-any.whl\n",
            "Requirement already satisfied: msgpack>=0.6.0 in /usr/local/lib/python3.6/dist-packages (from distributed>=2.11.0->tsfresh) (1.0.0)\n",
            "Collecting contextvars; python_version < \"3.7\"\n",
            "  Downloading https://files.pythonhosted.org/packages/83/96/55b82d9f13763be9d672622e1b8106c85acb83edd7cc2fa5bc67cd9877e9/contextvars-2.4.tar.gz\n",
            "Requirement already satisfied: psutil>=5.0 in /usr/local/lib/python3.6/dist-packages (from distributed>=2.11.0->tsfresh) (5.4.8)\n",
            "Requirement already satisfied: zict>=0.1.3 in /usr/local/lib/python3.6/dist-packages (from distributed>=2.11.0->tsfresh) (2.0.0)\n",
            "Requirement already satisfied: pyyaml in /usr/local/lib/python3.6/dist-packages (from distributed>=2.11.0->tsfresh) (3.13)\n",
            "Requirement already satisfied: tornado>=5; python_version < \"3.8\" in /usr/local/lib/python3.6/dist-packages (from distributed>=2.11.0->tsfresh) (5.1.1)\n",
            "Requirement already satisfied: setuptools in /usr/local/lib/python3.6/dist-packages (from distributed>=2.11.0->tsfresh) (50.3.2)\n",
            "Collecting cloudpickle>=1.5.0\n",
            "  Downloading https://files.pythonhosted.org/packages/e7/e3/898487e5dbeb612054cf2e0c188463acb358167fef749c53c8bb8918cea1/cloudpickle-1.6.0-py3-none-any.whl\n",
            "Requirement already satisfied: tblib>=1.6.0 in /usr/local/lib/python3.6/dist-packages (from distributed>=2.11.0->tsfresh) (1.7.0)\n",
            "Requirement already satisfied: sortedcontainers!=2.0.0,!=2.0.1 in /usr/local/lib/python3.6/dist-packages (from distributed>=2.11.0->tsfresh) (2.2.2)\n",
            "Requirement already satisfied: click>=6.6 in /usr/local/lib/python3.6/dist-packages (from distributed>=2.11.0->tsfresh) (7.1.2)\n",
            "Collecting locket\n",
            "  Downloading https://files.pythonhosted.org/packages/d0/22/3c0f97614e0be8386542facb3a7dcfc2584f7b83608c02333bced641281c/locket-0.2.0.tar.gz\n",
            "Collecting immutables>=0.9\n",
            "\u001b[?25l  Downloading https://files.pythonhosted.org/packages/99/e0/ea6fd4697120327d26773b5a84853f897a68e33d3f9376b00a8ff96e4f63/immutables-0.14-cp36-cp36m-manylinux1_x86_64.whl (98kB)\n",
            "\u001b[K     |████████████████████████████████| 102kB 9.7MB/s \n",
            "\u001b[?25hRequirement already satisfied: heapdict in /usr/local/lib/python3.6/dist-packages (from zict>=0.1.3->distributed>=2.11.0->tsfresh) (1.0.1)\n",
            "Building wheels for collected packages: contextvars, locket\n",
            "  Building wheel for contextvars (setup.py) ... \u001b[?25l\u001b[?25hdone\n",
            "  Created wheel for contextvars: filename=contextvars-2.4-cp36-none-any.whl size=7666 sha256=7b7744c0daf888dee2df44a47ddb36fb3c7fc0db8799f79a78ed5621dc893639\n",
            "  Stored in directory: /root/.cache/pip/wheels/a5/7d/68/1ebae2668bda2228686e3c1cf16f2c2384cea6e9334ad5f6de\n",
            "  Building wheel for locket (setup.py) ... \u001b[?25l\u001b[?25hdone\n",
            "  Created wheel for locket: filename=locket-0.2.0-cp36-none-any.whl size=4040 sha256=d8daa04bda0cb26adb09b61921cd57706e079e44370519da59562fb8529c5413\n",
            "  Stored in directory: /root/.cache/pip/wheels/26/1e/e8/4fa236ec931b1a0cdd61578e20d4934d7bf188858723b84698\n",
            "Successfully built contextvars locket\n",
            "\u001b[31mERROR: tensorflow-probability 0.11.0 has requirement cloudpickle==1.3, but you'll have cloudpickle 1.6.0 which is incompatible.\u001b[0m\n",
            "Installing collected packages: immutables, contextvars, cloudpickle, distributed, tsfresh, fsspec, locket, partd\n",
            "  Found existing installation: cloudpickle 1.3.0\n",
            "    Uninstalling cloudpickle-1.3.0:\n",
            "      Successfully uninstalled cloudpickle-1.3.0\n",
            "  Found existing installation: distributed 1.25.3\n",
            "    Uninstalling distributed-1.25.3:\n",
            "      Successfully uninstalled distributed-1.25.3\n",
            "Successfully installed cloudpickle-1.6.0 contextvars-2.4 distributed-2.30.1 fsspec-0.8.4 immutables-0.14 locket-0.2.0 partd-1.1.0 tsfresh-0.17.0\n"
          ],
          "name": "stdout"
        },
        {
          "output_type": "stream",
          "text": [
            "\n",
            "    Deprecation Warning!\n",
            "\n",
            "    You are importing modules from deprecated `api` module to access Gro\n",
            "    Intelligence's API.  Please update your code to import from the `groclient`\n",
            "    module instead.  The `api` module will be removed by 2021-03-31.\n",
            "\n",
            "    Replace: from api.client.gro_client import GroClient\n",
            "       with: from groclient import GroClient\n",
            "\n",
            "    And replace any other imports from `api.client.*` with imports from\n",
            "    `groclient.*` instead.\n",
            "\n",
            "    Please reach out to api-support@gro-intelligence.com if you need any help!\n",
            "\n",
            "/usr/local/lib/python3.6/dist-packages/statsmodels/tools/_testing.py:19: FutureWarning: pandas.util.testing is deprecated. Use the functions in the public API at pandas.testing instead.\n",
            "  import pandas.util.testing as tm\n"
          ],
          "name": "stderr"
        }
      ]
    },
    {
      "cell_type": "markdown",
      "metadata": {
        "id": "Iy6kc5kDeRz_"
      },
      "source": [
        "## 1. Fill in the API access token (User input required)\n",
        "\n",
        "You have to fill in the variable `GROAPI_TOKEN` below, with your personal access token (assuming you have not done so in the first cell)."
      ]
    },
    {
      "cell_type": "code",
      "metadata": {
        "id": "KsMdexBEqQka"
      },
      "source": [
        "GROAPI_TOKEN = None\n",
        "if not GROAPI_TOKEN:\n",
        "  GROAPI_TOKEN = config['DEFAULT']['GROAPI_TOKEN']"
      ],
      "execution_count": 3,
      "outputs": []
    },
    {
      "cell_type": "markdown",
      "metadata": {
        "id": "vIdezZVrenvx"
      },
      "source": [
        "## 2. Adding data series and dates (User input required)\n",
        "You have to add the following data corresponding to the data series you are interested in -\n",
        "1. One or multiple data series (acordingly edit the variable `data_series_list`).\n",
        "2. Input dates (in `YYYY-MM-DD` format).\n"
      ]
    },
    {
      "cell_type": "code",
      "metadata": {
        "id": "arVZL_AVrqNj"
      },
      "source": [
        "# Multivariate ENSO Index - El Niño Southern Oscillation Index - World (NOAA MEI v2)\n",
        "enso = {\n",
        "\t'metric_id': 15851977, \n",
        "\t'item_id': 13495, \n",
        "\t'region_id': 0, \n",
        "\t'partner_region_id': 0, \n",
        "\t'source_id': 124, \n",
        "\t'frequency_id': 6\n",
        "}\n",
        "\n",
        "\n",
        "series_list = [\n",
        "               enso\n",
        "               ]\n",
        "\n",
        "\n",
        "initial_date = '2020-06-01'\n",
        "final_date = '2020-09-30'"
      ],
      "execution_count": 6,
      "outputs": []
    },
    {
      "cell_type": "markdown",
      "metadata": {
        "id": "gXdn_H0ne8f2"
      },
      "source": [
        "## 3. Vanilla Analogous Years Rank\n",
        "The output will be a pandas dataframe containg the ranks computed by ensembling several distance calculation methods."
      ]
    },
    {
      "cell_type": "code",
      "metadata": {
        "id": "qv99nZcPr284",
        "outputId": "32cdfc27-ffca-41b4-800d-ac15cfb55578",
        "colab": {
          "base_uri": "https://localhost:8080/",
          "height": 1000
        }
      },
      "source": [
        "result = final_ranks_computation.analogous_years(\n",
        "    GROAPI_TOKEN, series_list, initial_date, final_date)\n",
        "result"
      ],
      "execution_count": 7,
      "outputs": [
        {
          "output_type": "stream",
          "text": [
            "Feature Extraction: 100%|██████████| 42/42 [00:03<00:00, 13.01it/s]\n"
          ],
          "name": "stderr"
        },
        {
          "output_type": "execute_result",
          "data": {
            "text/html": [
              "<div>\n",
              "<style scoped>\n",
              "    .dataframe tbody tr th:only-of-type {\n",
              "        vertical-align: middle;\n",
              "    }\n",
              "\n",
              "    .dataframe tbody tr th {\n",
              "        vertical-align: top;\n",
              "    }\n",
              "\n",
              "    .dataframe thead th {\n",
              "        text-align: right;\n",
              "    }\n",
              "</style>\n",
              "<table border=\"1\" class=\"dataframe\">\n",
              "  <thead>\n",
              "    <tr style=\"text-align: right;\">\n",
              "      <th></th>\n",
              "      <th>composite_rank</th>\n",
              "    </tr>\n",
              "    <tr>\n",
              "      <th>period</th>\n",
              "      <th></th>\n",
              "    </tr>\n",
              "  </thead>\n",
              "  <tbody>\n",
              "    <tr>\n",
              "      <th>1979-06-01 to 1979-09-30</th>\n",
              "      <td>22</td>\n",
              "    </tr>\n",
              "    <tr>\n",
              "      <th>1980-06-01 to 1980-09-30</th>\n",
              "      <td>27</td>\n",
              "    </tr>\n",
              "    <tr>\n",
              "      <th>1981-06-01 to 1981-09-30</th>\n",
              "      <td>12</td>\n",
              "    </tr>\n",
              "    <tr>\n",
              "      <th>1982-06-01 to 1982-09-30</th>\n",
              "      <td>40</td>\n",
              "    </tr>\n",
              "    <tr>\n",
              "      <th>1983-06-01 to 1983-09-30</th>\n",
              "      <td>38</td>\n",
              "    </tr>\n",
              "    <tr>\n",
              "      <th>1984-06-01 to 1984-09-30</th>\n",
              "      <td>14</td>\n",
              "    </tr>\n",
              "    <tr>\n",
              "      <th>1985-06-01 to 1985-09-30</th>\n",
              "      <td>15</td>\n",
              "    </tr>\n",
              "    <tr>\n",
              "      <th>1986-06-01 to 1986-09-30</th>\n",
              "      <td>35</td>\n",
              "    </tr>\n",
              "    <tr>\n",
              "      <th>1987-06-01 to 1987-09-30</th>\n",
              "      <td>39</td>\n",
              "    </tr>\n",
              "    <tr>\n",
              "      <th>1988-06-01 to 1988-09-30</th>\n",
              "      <td>9</td>\n",
              "    </tr>\n",
              "    <tr>\n",
              "      <th>1989-06-01 to 1989-09-30</th>\n",
              "      <td>6</td>\n",
              "    </tr>\n",
              "    <tr>\n",
              "      <th>1990-06-01 to 1990-09-30</th>\n",
              "      <td>21</td>\n",
              "    </tr>\n",
              "    <tr>\n",
              "      <th>1991-06-01 to 1991-09-30</th>\n",
              "      <td>31</td>\n",
              "    </tr>\n",
              "    <tr>\n",
              "      <th>1992-06-01 to 1992-09-30</th>\n",
              "      <td>37</td>\n",
              "    </tr>\n",
              "    <tr>\n",
              "      <th>1993-06-01 to 1993-09-30</th>\n",
              "      <td>36</td>\n",
              "    </tr>\n",
              "    <tr>\n",
              "      <th>1994-06-01 to 1994-09-30</th>\n",
              "      <td>34</td>\n",
              "    </tr>\n",
              "    <tr>\n",
              "      <th>1995-06-01 to 1995-09-30</th>\n",
              "      <td>8</td>\n",
              "    </tr>\n",
              "    <tr>\n",
              "      <th>1996-06-01 to 1996-09-30</th>\n",
              "      <td>10</td>\n",
              "    </tr>\n",
              "    <tr>\n",
              "      <th>1997-06-01 to 1997-09-30</th>\n",
              "      <td>42</td>\n",
              "    </tr>\n",
              "    <tr>\n",
              "      <th>1998-06-01 to 1998-09-30</th>\n",
              "      <td>33</td>\n",
              "    </tr>\n",
              "    <tr>\n",
              "      <th>1999-06-01 to 1999-09-30</th>\n",
              "      <td>11</td>\n",
              "    </tr>\n",
              "    <tr>\n",
              "      <th>2000-06-01 to 2000-09-30</th>\n",
              "      <td>13</td>\n",
              "    </tr>\n",
              "    <tr>\n",
              "      <th>2001-06-01 to 2001-09-30</th>\n",
              "      <td>20</td>\n",
              "    </tr>\n",
              "    <tr>\n",
              "      <th>2002-06-01 to 2002-09-30</th>\n",
              "      <td>32</td>\n",
              "    </tr>\n",
              "    <tr>\n",
              "      <th>2003-06-01 to 2003-09-30</th>\n",
              "      <td>23</td>\n",
              "    </tr>\n",
              "    <tr>\n",
              "      <th>2004-06-01 to 2004-09-30</th>\n",
              "      <td>30</td>\n",
              "    </tr>\n",
              "    <tr>\n",
              "      <th>2005-06-01 to 2005-09-30</th>\n",
              "      <td>17</td>\n",
              "    </tr>\n",
              "    <tr>\n",
              "      <th>2006-06-01 to 2006-09-30</th>\n",
              "      <td>28</td>\n",
              "    </tr>\n",
              "    <tr>\n",
              "      <th>2007-06-01 to 2007-09-30</th>\n",
              "      <td>2</td>\n",
              "    </tr>\n",
              "    <tr>\n",
              "      <th>2008-06-01 to 2008-09-30</th>\n",
              "      <td>4</td>\n",
              "    </tr>\n",
              "    <tr>\n",
              "      <th>2009-06-01 to 2009-09-30</th>\n",
              "      <td>29</td>\n",
              "    </tr>\n",
              "    <tr>\n",
              "      <th>2010-06-01 to 2010-09-30</th>\n",
              "      <td>25</td>\n",
              "    </tr>\n",
              "    <tr>\n",
              "      <th>2011-06-01 to 2011-09-30</th>\n",
              "      <td>5</td>\n",
              "    </tr>\n",
              "    <tr>\n",
              "      <th>2012-06-01 to 2012-09-30</th>\n",
              "      <td>16</td>\n",
              "    </tr>\n",
              "    <tr>\n",
              "      <th>2013-06-01 to 2013-09-30</th>\n",
              "      <td>7</td>\n",
              "    </tr>\n",
              "    <tr>\n",
              "      <th>2014-06-01 to 2014-09-30</th>\n",
              "      <td>19</td>\n",
              "    </tr>\n",
              "    <tr>\n",
              "      <th>2015-06-01 to 2015-09-30</th>\n",
              "      <td>41</td>\n",
              "    </tr>\n",
              "    <tr>\n",
              "      <th>2016-06-01 to 2016-09-30</th>\n",
              "      <td>18</td>\n",
              "    </tr>\n",
              "    <tr>\n",
              "      <th>2017-06-01 to 2017-09-30</th>\n",
              "      <td>3</td>\n",
              "    </tr>\n",
              "    <tr>\n",
              "      <th>2018-06-01 to 2018-09-30</th>\n",
              "      <td>26</td>\n",
              "    </tr>\n",
              "    <tr>\n",
              "      <th>2019-06-01 to 2019-09-30</th>\n",
              "      <td>24</td>\n",
              "    </tr>\n",
              "    <tr>\n",
              "      <th>2020-06-01 to 2020-09-30</th>\n",
              "      <td>1</td>\n",
              "    </tr>\n",
              "  </tbody>\n",
              "</table>\n",
              "</div>"
            ],
            "text/plain": [
              "                          composite_rank\n",
              "period                                  \n",
              "1979-06-01 to 1979-09-30              22\n",
              "1980-06-01 to 1980-09-30              27\n",
              "1981-06-01 to 1981-09-30              12\n",
              "1982-06-01 to 1982-09-30              40\n",
              "1983-06-01 to 1983-09-30              38\n",
              "1984-06-01 to 1984-09-30              14\n",
              "1985-06-01 to 1985-09-30              15\n",
              "1986-06-01 to 1986-09-30              35\n",
              "1987-06-01 to 1987-09-30              39\n",
              "1988-06-01 to 1988-09-30               9\n",
              "1989-06-01 to 1989-09-30               6\n",
              "1990-06-01 to 1990-09-30              21\n",
              "1991-06-01 to 1991-09-30              31\n",
              "1992-06-01 to 1992-09-30              37\n",
              "1993-06-01 to 1993-09-30              36\n",
              "1994-06-01 to 1994-09-30              34\n",
              "1995-06-01 to 1995-09-30               8\n",
              "1996-06-01 to 1996-09-30              10\n",
              "1997-06-01 to 1997-09-30              42\n",
              "1998-06-01 to 1998-09-30              33\n",
              "1999-06-01 to 1999-09-30              11\n",
              "2000-06-01 to 2000-09-30              13\n",
              "2001-06-01 to 2001-09-30              20\n",
              "2002-06-01 to 2002-09-30              32\n",
              "2003-06-01 to 2003-09-30              23\n",
              "2004-06-01 to 2004-09-30              30\n",
              "2005-06-01 to 2005-09-30              17\n",
              "2006-06-01 to 2006-09-30              28\n",
              "2007-06-01 to 2007-09-30               2\n",
              "2008-06-01 to 2008-09-30               4\n",
              "2009-06-01 to 2009-09-30              29\n",
              "2010-06-01 to 2010-09-30              25\n",
              "2011-06-01 to 2011-09-30               5\n",
              "2012-06-01 to 2012-09-30              16\n",
              "2013-06-01 to 2013-09-30               7\n",
              "2014-06-01 to 2014-09-30              19\n",
              "2015-06-01 to 2015-09-30              41\n",
              "2016-06-01 to 2016-09-30              18\n",
              "2017-06-01 to 2017-09-30               3\n",
              "2018-06-01 to 2018-09-30              26\n",
              "2019-06-01 to 2019-09-30              24\n",
              "2020-06-01 to 2020-09-30               1"
            ]
          },
          "metadata": {
            "tags": []
          },
          "execution_count": 7
        }
      ]
    },
    {
      "cell_type": "code",
      "metadata": {
        "id": "HIBkAvg0VGNG",
        "outputId": "64fd5917-dcc8-4568-b38d-3c6d59a97516",
        "colab": {
          "base_uri": "https://localhost:8080/",
          "height": 443
        }
      },
      "source": [
        "result_restricted = final_ranks_computation.analogous_years(\n",
        "    GROAPI_TOKEN, series_list, initial_date, final_date, provided_start_date='2010-01-01')\n",
        "result_restricted"
      ],
      "execution_count": 8,
      "outputs": [
        {
          "output_type": "stream",
          "text": [
            "Feature Extraction: 100%|██████████| 11/11 [00:00<00:00, 13.81it/s]\n"
          ],
          "name": "stderr"
        },
        {
          "output_type": "execute_result",
          "data": {
            "text/html": [
              "<div>\n",
              "<style scoped>\n",
              "    .dataframe tbody tr th:only-of-type {\n",
              "        vertical-align: middle;\n",
              "    }\n",
              "\n",
              "    .dataframe tbody tr th {\n",
              "        vertical-align: top;\n",
              "    }\n",
              "\n",
              "    .dataframe thead th {\n",
              "        text-align: right;\n",
              "    }\n",
              "</style>\n",
              "<table border=\"1\" class=\"dataframe\">\n",
              "  <thead>\n",
              "    <tr style=\"text-align: right;\">\n",
              "      <th></th>\n",
              "      <th>composite_rank</th>\n",
              "    </tr>\n",
              "    <tr>\n",
              "      <th>period</th>\n",
              "      <th></th>\n",
              "    </tr>\n",
              "  </thead>\n",
              "  <tbody>\n",
              "    <tr>\n",
              "      <th>2010-06-01 to 2010-09-30</th>\n",
              "      <td>9</td>\n",
              "    </tr>\n",
              "    <tr>\n",
              "      <th>2011-06-01 to 2011-09-30</th>\n",
              "      <td>3</td>\n",
              "    </tr>\n",
              "    <tr>\n",
              "      <th>2012-06-01 to 2012-09-30</th>\n",
              "      <td>5</td>\n",
              "    </tr>\n",
              "    <tr>\n",
              "      <th>2013-06-01 to 2013-09-30</th>\n",
              "      <td>4</td>\n",
              "    </tr>\n",
              "    <tr>\n",
              "      <th>2014-06-01 to 2014-09-30</th>\n",
              "      <td>6</td>\n",
              "    </tr>\n",
              "    <tr>\n",
              "      <th>2015-06-01 to 2015-09-30</th>\n",
              "      <td>11</td>\n",
              "    </tr>\n",
              "    <tr>\n",
              "      <th>2016-06-01 to 2016-09-30</th>\n",
              "      <td>7</td>\n",
              "    </tr>\n",
              "    <tr>\n",
              "      <th>2017-06-01 to 2017-09-30</th>\n",
              "      <td>2</td>\n",
              "    </tr>\n",
              "    <tr>\n",
              "      <th>2018-06-01 to 2018-09-30</th>\n",
              "      <td>10</td>\n",
              "    </tr>\n",
              "    <tr>\n",
              "      <th>2019-06-01 to 2019-09-30</th>\n",
              "      <td>8</td>\n",
              "    </tr>\n",
              "    <tr>\n",
              "      <th>2020-06-01 to 2020-09-30</th>\n",
              "      <td>1</td>\n",
              "    </tr>\n",
              "  </tbody>\n",
              "</table>\n",
              "</div>"
            ],
            "text/plain": [
              "                          composite_rank\n",
              "period                                  \n",
              "2010-06-01 to 2010-09-30               9\n",
              "2011-06-01 to 2011-09-30               3\n",
              "2012-06-01 to 2012-09-30               5\n",
              "2013-06-01 to 2013-09-30               4\n",
              "2014-06-01 to 2014-09-30               6\n",
              "2015-06-01 to 2015-09-30              11\n",
              "2016-06-01 to 2016-09-30               7\n",
              "2017-06-01 to 2017-09-30               2\n",
              "2018-06-01 to 2018-09-30              10\n",
              "2019-06-01 to 2019-09-30               8\n",
              "2020-06-01 to 2020-09-30               1"
            ]
          },
          "metadata": {
            "tags": []
          },
          "execution_count": 8
        }
      ]
    },
    {
      "cell_type": "code",
      "metadata": {
        "id": "OQAO1KPUTfDb"
      },
      "source": [
        ""
      ],
      "execution_count": null,
      "outputs": []
    }
  ]
}